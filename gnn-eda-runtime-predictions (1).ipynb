{
 "cells": [
  {
   "cell_type": "markdown",
   "id": "ad48c32f",
   "metadata": {
    "papermill": {
     "duration": 0.016561,
     "end_time": "2023-11-07T02:06:13.341646",
     "exception": false,
     "start_time": "2023-11-07T02:06:13.325085",
     "status": "completed"
    },
    "tags": []
   },
   "source": [
    "**LOADING LIBRARIES**"
   ]
  },
  {
   "cell_type": "code",
   "execution_count": 1,
   "id": "02dcb72c",
   "metadata": {
    "execution": {
     "iopub.execute_input": "2023-11-07T02:06:13.374501Z",
     "iopub.status.busy": "2023-11-07T02:06:13.374055Z",
     "iopub.status.idle": "2023-11-07T02:06:18.252802Z",
     "shell.execute_reply": "2023-11-07T02:06:18.251465Z"
    },
    "papermill": {
     "duration": 4.898599,
     "end_time": "2023-11-07T02:06:18.255809",
     "exception": false,
     "start_time": "2023-11-07T02:06:13.357210",
     "status": "completed"
    },
    "tags": []
   },
   "outputs": [],
   "source": [
    "import pandas as pd\n",
    "import numpy as np\n",
    "import os\n",
    "import torch\n",
    "from torch import optim\n",
    "from torch import nn\n",
    "from torch.utils.data import Dataset, DataLoader\n",
    "import torchvision.transforms as transforms"
   ]
  },
  {
   "cell_type": "code",
   "execution_count": 2,
   "id": "d8ff2073",
   "metadata": {
    "execution": {
     "iopub.execute_input": "2023-11-07T02:06:18.289550Z",
     "iopub.status.busy": "2023-11-07T02:06:18.288904Z",
     "iopub.status.idle": "2023-11-07T02:06:18.298363Z",
     "shell.execute_reply": "2023-11-07T02:06:18.297237Z"
    },
    "papermill": {
     "duration": 0.029552,
     "end_time": "2023-11-07T02:06:18.301641",
     "exception": false,
     "start_time": "2023-11-07T02:06:18.272089",
     "status": "completed"
    },
    "tags": []
   },
   "outputs": [
    {
     "data": {
      "text/plain": [
       "device(type='cpu')"
      ]
     },
     "execution_count": 2,
     "metadata": {},
     "output_type": "execute_result"
    }
   ],
   "source": [
    "if torch.cuda.is_available():\n",
    "    device = torch.device('cuda')\n",
    "else:\n",
    "    device = torch.device('cpu')\n",
    "device"
   ]
  },
  {
   "cell_type": "markdown",
   "id": "2369cba5",
   "metadata": {
    "papermill": {
     "duration": 0.015258,
     "end_time": "2023-11-07T02:06:18.332584",
     "exception": false,
     "start_time": "2023-11-07T02:06:18.317326",
     "status": "completed"
    },
    "tags": []
   },
   "source": [
    "**LOADING DATA**"
   ]
  },
  {
   "cell_type": "code",
   "execution_count": 3,
   "id": "f33a8786",
   "metadata": {
    "execution": {
     "iopub.execute_input": "2023-11-07T02:06:18.366916Z",
     "iopub.status.busy": "2023-11-07T02:06:18.366529Z",
     "iopub.status.idle": "2023-11-07T02:06:21.002700Z",
     "shell.execute_reply": "2023-11-07T02:06:21.001529Z"
    },
    "papermill": {
     "duration": 2.657716,
     "end_time": "2023-11-07T02:06:21.006075",
     "exception": false,
     "start_time": "2023-11-07T02:06:18.348359",
     "status": "completed"
    },
    "tags": []
   },
   "outputs": [
    {
     "name": "stdout",
     "output_type": "stream",
     "text": [
      "/kaggle/input/predict-ai-model-runtime/npz_all/npz/tile/xla/valid 676\n",
      "Size: 22.240 KB\n",
      "/kaggle/input/predict-ai-model-runtime/npz_all/npz/tile/xla/test 844\n",
      "Size: 17.657 KB\n",
      "/kaggle/input/predict-ai-model-runtime/npz_all/npz/tile/xla/train 5709\n",
      "Size: 26.440 KB\n",
      "/kaggle/input/predict-ai-model-runtime/npz_all/npz/layout/nlp/random/valid 20\n",
      "Size: 12802.166 KB\n",
      "/kaggle/input/predict-ai-model-runtime/npz_all/npz/layout/nlp/random/test 17\n",
      "Size: 270.353 KB\n",
      "/kaggle/input/predict-ai-model-runtime/npz_all/npz/layout/nlp/random/train 207\n",
      "Size: 11594.272 KB\n",
      "/kaggle/input/predict-ai-model-runtime/npz_all/npz/layout/nlp/default/valid 20\n",
      "Size: 11852.173 KB\n",
      "/kaggle/input/predict-ai-model-runtime/npz_all/npz/layout/nlp/default/test 17\n",
      "Size: 262.961 KB\n",
      "/kaggle/input/predict-ai-model-runtime/npz_all/npz/layout/nlp/default/train 198\n",
      "Size: 10526.417 KB\n",
      "/kaggle/input/predict-ai-model-runtime/npz_all/npz/layout/xla/random/valid 7\n",
      "Size: 6434.424 KB\n",
      "/kaggle/input/predict-ai-model-runtime/npz_all/npz/layout/xla/random/test 8\n",
      "Size: 1299.719 KB\n",
      "/kaggle/input/predict-ai-model-runtime/npz_all/npz/layout/xla/random/train 69\n",
      "Size: 5312.137 KB\n",
      "/kaggle/input/predict-ai-model-runtime/npz_all/npz/layout/xla/default/valid 7\n",
      "Size: 6426.356 KB\n",
      "/kaggle/input/predict-ai-model-runtime/npz_all/npz/layout/xla/default/test 8\n",
      "Size: 1242.825 KB\n",
      "/kaggle/input/predict-ai-model-runtime/npz_all/npz/layout/xla/default/train 61\n",
      "Size: 6165.213 KB\n",
      "/kaggle/input/predict-ai-model-runtime/pb/pb/layout/nlp/random/valid 20\n",
      "Size: 1122.762 KB\n",
      "/kaggle/input/predict-ai-model-runtime/pb/pb/layout/nlp/random/test 17\n",
      "Size: 905.432 KB\n",
      "/kaggle/input/predict-ai-model-runtime/pb/pb/layout/nlp/random/train 207\n",
      "Size: 1194.680 KB\n",
      "/kaggle/input/predict-ai-model-runtime/pb/pb/layout/nlp/default/valid 20\n",
      "Size: 1122.762 KB\n",
      "/kaggle/input/predict-ai-model-runtime/pb/pb/layout/nlp/default/test 17\n",
      "Size: 905.432 KB\n",
      "/kaggle/input/predict-ai-model-runtime/pb/pb/layout/nlp/default/train 198\n",
      "Size: 1223.658 KB\n",
      "/kaggle/input/predict-ai-model-runtime/pb/pb/layout/xla/random/valid 7\n",
      "Size: 1735.891 KB\n",
      "/kaggle/input/predict-ai-model-runtime/pb/pb/layout/xla/random/test 8\n",
      "Size: 4159.569 KB\n",
      "/kaggle/input/predict-ai-model-runtime/pb/pb/layout/xla/random/train 69\n",
      "Size: 3566.936 KB\n",
      "/kaggle/input/predict-ai-model-runtime/pb/pb/layout/xla/default/valid 7\n",
      "Size: 1735.891 KB\n",
      "/kaggle/input/predict-ai-model-runtime/pb/pb/layout/xla/default/test 8\n",
      "Size: 4159.569 KB\n",
      "/kaggle/input/predict-ai-model-runtime/pb/pb/layout/xla/default/train 61\n",
      "Size: 3314.990 KB\n"
     ]
    }
   ],
   "source": [
    "for dirname, _, filenames in os.walk('/kaggle/input/'):\n",
    "    if len(filenames) != 0:\n",
    "        if filenames[0] != \"sample_submission.csv\":\n",
    "            avg = np.array([os.path.getsize(os.path.join(dirname, filename)) for filename in filenames]).mean()\n",
    "            # os.path.getsize returns the size of the dictionary passed in bytes\n",
    "            print(dirname, len(os.listdir(dirname)))\n",
    "            print(\"Size: {:.3f} KB\".format(avg/1024)) # 1024 is 1KB"
   ]
  },
  {
   "cell_type": "code",
   "execution_count": 4,
   "id": "b67dd3b2",
   "metadata": {
    "execution": {
     "iopub.execute_input": "2023-11-07T02:06:21.042231Z",
     "iopub.status.busy": "2023-11-07T02:06:21.041161Z",
     "iopub.status.idle": "2023-11-07T02:06:21.054185Z",
     "shell.execute_reply": "2023-11-07T02:06:21.053152Z"
    },
    "papermill": {
     "duration": 0.033691,
     "end_time": "2023-11-07T02:06:21.056497",
     "exception": false,
     "start_time": "2023-11-07T02:06:21.022806",
     "status": "completed"
    },
    "tags": []
   },
   "outputs": [
    {
     "data": {
      "text/plain": [
       "['node_feat',\n",
       " 'node_opcode',\n",
       " 'edge_index',\n",
       " 'config_feat',\n",
       " 'config_runtime',\n",
       " 'config_runtime_normalizers']"
      ]
     },
     "execution_count": 4,
     "metadata": {},
     "output_type": "execute_result"
    }
   ],
   "source": [
    "tile = np.load('/kaggle/input/predict-ai-model-runtime/npz_all/npz/tile/xla/train/retinanet.4x4.fp32_-431a58cc30e72ec6.npz')\n",
    "tile.files"
   ]
  },
  {
   "cell_type": "code",
   "execution_count": 5,
   "id": "31b829b0",
   "metadata": {
    "execution": {
     "iopub.execute_input": "2023-11-07T02:06:21.090991Z",
     "iopub.status.busy": "2023-11-07T02:06:21.090303Z",
     "iopub.status.idle": "2023-11-07T02:07:00.902441Z",
     "shell.execute_reply": "2023-11-07T02:07:00.900812Z"
    },
    "papermill": {
     "duration": 39.832895,
     "end_time": "2023-11-07T02:07:00.905555",
     "exception": false,
     "start_time": "2023-11-07T02:06:21.072660",
     "status": "completed"
    },
    "tags": []
   },
   "outputs": [
    {
     "name": "stdout",
     "output_type": "stream",
     "text": [
      "/kaggle/input/predict-ai-model-runtime/npz_all/npz/layout/nlp/random/valid\n",
      "['edge_index', 'node_feat', 'node_opcode', 'node_config_feat', 'node_config_ids', 'node_splits', 'config_runtime']\n",
      "/kaggle/input/predict-ai-model-runtime/npz_all/npz/layout/nlp/random/test\n",
      "['edge_index', 'node_feat', 'node_opcode', 'node_config_feat', 'node_config_ids', 'node_splits', 'config_runtime']\n",
      "/kaggle/input/predict-ai-model-runtime/npz_all/npz/layout/nlp/random/train\n",
      "['edge_index', 'node_feat', 'node_opcode', 'node_config_feat', 'node_config_ids', 'node_splits', 'config_runtime']\n",
      "/kaggle/input/predict-ai-model-runtime/npz_all/npz/layout/nlp/default/valid\n",
      "['edge_index', 'node_feat', 'node_opcode', 'node_config_feat', 'node_config_ids', 'node_splits', 'config_runtime']\n",
      "/kaggle/input/predict-ai-model-runtime/npz_all/npz/layout/nlp/default/test\n",
      "['edge_index', 'node_feat', 'node_opcode', 'node_config_feat', 'node_config_ids', 'node_splits', 'config_runtime']\n",
      "/kaggle/input/predict-ai-model-runtime/npz_all/npz/layout/nlp/default/train\n",
      "['edge_index', 'node_feat', 'node_opcode', 'node_config_feat', 'node_config_ids', 'node_splits', 'config_runtime']\n",
      "/kaggle/input/predict-ai-model-runtime/npz_all/npz/layout/xla/random/valid\n",
      "['edge_index', 'node_feat', 'node_opcode', 'node_config_feat', 'node_config_ids', 'node_splits', 'config_runtime']\n",
      "/kaggle/input/predict-ai-model-runtime/npz_all/npz/layout/xla/random/test\n",
      "['edge_index', 'node_feat', 'node_opcode', 'node_config_feat', 'node_config_ids', 'node_splits', 'config_runtime']\n",
      "/kaggle/input/predict-ai-model-runtime/npz_all/npz/layout/xla/random/train\n",
      "['edge_index', 'node_feat', 'node_opcode', 'node_config_feat', 'node_config_ids', 'node_splits', 'config_runtime']\n",
      "/kaggle/input/predict-ai-model-runtime/npz_all/npz/layout/xla/default/valid\n",
      "['edge_index', 'node_feat', 'node_opcode', 'node_config_feat', 'node_config_ids', 'node_splits', 'config_runtime']\n",
      "/kaggle/input/predict-ai-model-runtime/npz_all/npz/layout/xla/default/test\n",
      "['edge_index', 'node_feat', 'node_opcode', 'node_config_feat', 'node_config_ids', 'node_splits', 'config_runtime']\n",
      "/kaggle/input/predict-ai-model-runtime/npz_all/npz/layout/xla/default/train\n",
      "['edge_index', 'node_feat', 'node_opcode', 'node_config_feat', 'node_config_ids', 'node_splits', 'config_runtime']\n"
     ]
    }
   ],
   "source": [
    "basic_structure = tile.files\n",
    "for dirname, _, filenames in os.walk('/kaggle/input'):\n",
    "    flag = False\n",
    "    for filename in filenames:\n",
    "        if filename != \"sample_submission.csv\" and filename[-4:] == '.npz':\n",
    "            \n",
    "            if np.load(os.path.join(dirname, filename)).files != basic_structure and not flag:\n",
    "                print(dirname)\n",
    "                print(np.load(os.path.join(dirname, filename)).files)\n",
    "                flag = True"
   ]
  },
  {
   "cell_type": "code",
   "execution_count": 6,
   "id": "a6f78d04",
   "metadata": {
    "execution": {
     "iopub.execute_input": "2023-11-07T02:07:00.941891Z",
     "iopub.status.busy": "2023-11-07T02:07:00.941171Z",
     "iopub.status.idle": "2023-11-07T02:07:00.948859Z",
     "shell.execute_reply": "2023-11-07T02:07:00.947646Z"
    },
    "papermill": {
     "duration": 0.02875,
     "end_time": "2023-11-07T02:07:00.951494",
     "exception": false,
     "start_time": "2023-11-07T02:07:00.922744",
     "status": "completed"
    },
    "tags": []
   },
   "outputs": [],
   "source": [
    "def load_data(directory):\n",
    "    splits = ['train', 'valid', 'test']\n",
    "    dfs = dict()\n",
    "    for split in splits:\n",
    "        path = os.path.join(directory, split)\n",
    "        files = os.listdir(path)\n",
    "        list_df = []\n",
    "        \n",
    "        for file in files:\n",
    "            list_df.append(dict(np.load(os.path.join(path, file))))\n",
    "        dfs[split] = pd.DataFrame.from_dict(list_df)\n",
    "    return dfs"
   ]
  },
  {
   "cell_type": "markdown",
   "id": "b989f510",
   "metadata": {
    "papermill": {
     "duration": 0.016479,
     "end_time": "2023-11-07T02:07:00.984753",
     "exception": false,
     "start_time": "2023-11-07T02:07:00.968274",
     "status": "completed"
    },
    "tags": []
   },
   "source": [
    "**DATA PREPROCESSING**"
   ]
  },
  {
   "cell_type": "code",
   "execution_count": 7,
   "id": "a8d5bdf7",
   "metadata": {
    "execution": {
     "iopub.execute_input": "2023-11-07T02:07:01.021715Z",
     "iopub.status.busy": "2023-11-07T02:07:01.021269Z",
     "iopub.status.idle": "2023-11-07T02:07:01.030388Z",
     "shell.execute_reply": "2023-11-07T02:07:01.029470Z"
    },
    "papermill": {
     "duration": 0.031081,
     "end_time": "2023-11-07T02:07:01.032624",
     "exception": false,
     "start_time": "2023-11-07T02:07:01.001543",
     "status": "completed"
    },
    "tags": []
   },
   "outputs": [],
   "source": [
    "def make_datum(datum, i):\n",
    "    configs = datum.config_feat[i].shape[0]\n",
    "    graph = pd.DataFrame(columns=['node_feat', 'node_opcode', 'edge_index', 'config_feat', 'config_runtime', 'config_runtime_normalizers'])\n",
    "    for config in range(0, configs):\n",
    "        Sample = pd.Series()\n",
    "        Sample['node_feat'] = datum.node_feat[i]\n",
    "        Sample['node_opcode'] = datum.node_opcode[i]\n",
    "        Sample['edge_index'] = datum.edge_index[i]\n",
    "        Sample['config_feat'] = datum.config_feat[i][config]\n",
    "        Sample['config_runtime'] = datum.config_runtime[i][config]\n",
    "        Sample['config_runtime_normalizers'] = datum.config_runtime_normalizers[i][config]\n",
    "        Sample['topo_order'] = datum.topo_order.values[0]\n",
    "        graph = pd.concat([graph, Sample.to_frame().T], ignore_index=True)\n",
    "    return graph\n"
   ]
  },
  {
   "cell_type": "code",
   "execution_count": 8,
   "id": "ca8c0be6",
   "metadata": {
    "execution": {
     "iopub.execute_input": "2023-11-07T02:07:01.068704Z",
     "iopub.status.busy": "2023-11-07T02:07:01.067846Z",
     "iopub.status.idle": "2023-11-07T02:07:01.075549Z",
     "shell.execute_reply": "2023-11-07T02:07:01.074407Z"
    },
    "papermill": {
     "duration": 0.0284,
     "end_time": "2023-11-07T02:07:01.077938",
     "exception": false,
     "start_time": "2023-11-07T02:07:01.049538",
     "status": "completed"
    },
    "tags": []
   },
   "outputs": [],
   "source": [
    "def make_data(data, b=0):\n",
    "    df = pd.DataFrame(columns = data.columns)\n",
    "    for i in range(len(data)):\n",
    "        datum = data.iloc[i].to_frame().T\n",
    "        graph = make_datum(datum, i+b)\n",
    "        df = pd.concat([df, graph], axis=0, ignore_index=True)\n",
    "    df['avg_runtime'] = df['config_runtime'] / (df['config_runtime_normalizers'] + 1e-5)\n",
    "    df.drop(['config_runtime', 'config_runtime_normalizers'], axis=1, inplace=True)\n",
    "    return df"
   ]
  },
  {
   "cell_type": "code",
   "execution_count": 9,
   "id": "0f781f09",
   "metadata": {
    "execution": {
     "iopub.execute_input": "2023-11-07T02:07:01.177501Z",
     "iopub.status.busy": "2023-11-07T02:07:01.177076Z",
     "iopub.status.idle": "2023-11-07T02:07:01.193472Z",
     "shell.execute_reply": "2023-11-07T02:07:01.192231Z"
    },
    "papermill": {
     "duration": 0.100819,
     "end_time": "2023-11-07T02:07:01.195907",
     "exception": false,
     "start_time": "2023-11-07T02:07:01.095088",
     "status": "completed"
    },
    "tags": []
   },
   "outputs": [],
   "source": [
    "class dataset(Dataset):\n",
    "    def __init__(self, data):\n",
    "        self.feats = data[data.columns[:-1]]\n",
    "        self.labels = data[data.columns[-1]]\n",
    "        self.transform = transforms.Compose([transforms.ToTensor()])\n",
    "    \n",
    "    def __len__(self):\n",
    "        return len(self.feats)\n",
    "    \n",
    "    def __getitem__(self, idx):\n",
    "        # early join of config features\n",
    "        op_code = torch.tensor(self.feats.node_opcode.iloc[idx])\n",
    "        node_f = torch.tensor(self.feats.node_feat.iloc[idx])\n",
    "        config_f = torch.tensor(self.feats.config_feat.iloc[idx])\n",
    "        adj_mat = torch.tensor(self.feats.edge_index.iloc[idx])\n",
    "        topo_o = torch.tensor(self.feats.topo_order.iloc[idx])\n",
    "        config_f_broadcasted = config_f.unsqueeze(0).expand(node_f.size(0), -1)\n",
    "        node_config_f = torch.cat((node_f, config_f_broadcasted), axis=1)\n",
    "        # padding for compatibility with the model GNN\n",
    "        to_add_rows = 500 - node_config_f.size(0)\n",
    "        node_config_row_zeros = torch.zeros((to_add_rows, node_config_f.size(1)), dtype=node_config_f.dtype)\n",
    "        node_config_f = torch.cat((node_config_f, node_config_row_zeros), dim=0)\n",
    "        op_top_zeros = torch.zeros(to_add_rows, dtype=op_code.dtype)\n",
    "        op_code = torch.cat((op_code, op_top_zeros))\n",
    "        topo_o = torch.cat((topo_o, op_top_zeros))\n",
    "        adj_row_zeros = torch.zeros((to_add_rows, adj_mat.size(1)), dtype=adj_mat.dtype)\n",
    "        adj_mat = torch.cat((adj_mat, adj_row_zeros), dim=0)\n",
    "        adj_col_zeros = torch.zeros((adj_mat.size(0), to_add_rows), dtype=adj_mat.dtype)\n",
    "        adj_mat = torch.cat((adj_mat, adj_col_zeros), dim=1)\n",
    "        # padding done (nodes == 100)\n",
    "        inputs = [op_code, node_config_f, adj_mat, topo_o]\n",
    "        return inputs, torch.tensor(self.labels.iloc[idx])"
   ]
  },
  {
   "cell_type": "code",
   "execution_count": 10,
   "id": "24c6709a",
   "metadata": {
    "execution": {
     "iopub.execute_input": "2023-11-07T02:07:01.231912Z",
     "iopub.status.busy": "2023-11-07T02:07:01.231458Z",
     "iopub.status.idle": "2023-11-07T02:07:01.237312Z",
     "shell.execute_reply": "2023-11-07T02:07:01.236179Z"
    },
    "papermill": {
     "duration": 0.02683,
     "end_time": "2023-11-07T02:07:01.239756",
     "exception": false,
     "start_time": "2023-11-07T02:07:01.212926",
     "status": "completed"
    },
    "tags": []
   },
   "outputs": [],
   "source": [
    "test = False\n",
    "if(test):\n",
    "    custom_dataset = dataset(made_tilex_train)\n",
    "    loader = DataLoader(custom_dataset, batch_size=2, shuffle=True)\n",
    "    for batch in loader:\n",
    "        break"
   ]
  },
  {
   "cell_type": "markdown",
   "id": "660baf28",
   "metadata": {
    "papermill": {
     "duration": 0.016556,
     "end_time": "2023-11-07T02:07:01.273259",
     "exception": false,
     "start_time": "2023-11-07T02:07:01.256703",
     "status": "completed"
    },
    "tags": []
   },
   "source": [
    "**BUILDING MODEL GNN**"
   ]
  },
  {
   "cell_type": "code",
   "execution_count": 11,
   "id": "b59c8df9",
   "metadata": {
    "execution": {
     "iopub.execute_input": "2023-11-07T02:07:01.308740Z",
     "iopub.status.busy": "2023-11-07T02:07:01.308277Z",
     "iopub.status.idle": "2023-11-07T02:07:01.314058Z",
     "shell.execute_reply": "2023-11-07T02:07:01.312871Z"
    },
    "papermill": {
     "duration": 0.026226,
     "end_time": "2023-11-07T02:07:01.316330",
     "exception": false,
     "start_time": "2023-11-07T02:07:01.290104",
     "status": "completed"
    },
    "tags": []
   },
   "outputs": [],
   "source": [
    "test = False\n",
    "if(test):\n",
    "    gnn = GNN(174)\n",
    "    batch_feats, batch_true = batch\n",
    "    batch_preds = gnn(batch_feats)\n",
    "    print(batch_preds)"
   ]
  },
  {
   "cell_type": "code",
   "execution_count": 12,
   "id": "9fba456a",
   "metadata": {
    "execution": {
     "iopub.execute_input": "2023-11-07T02:07:01.351847Z",
     "iopub.status.busy": "2023-11-07T02:07:01.351453Z",
     "iopub.status.idle": "2023-11-07T02:07:01.357010Z",
     "shell.execute_reply": "2023-11-07T02:07:01.355820Z"
    },
    "papermill": {
     "duration": 0.026175,
     "end_time": "2023-11-07T02:07:01.359449",
     "exception": false,
     "start_time": "2023-11-07T02:07:01.333274",
     "status": "completed"
    },
    "tags": []
   },
   "outputs": [],
   "source": [
    "def adj_mat(edges, n):\n",
    "    # edges are 0-indexed\n",
    "    adj_matrix = np.zeros((n, n))\n",
    "    for u, v in edges:\n",
    "        adj_matrix[u][v] = 1\n",
    "        adj_matrix[v][u] = 1\n",
    "    return adj_matrix"
   ]
  },
  {
   "cell_type": "code",
   "execution_count": 13,
   "id": "2bf9e768",
   "metadata": {
    "execution": {
     "iopub.execute_input": "2023-11-07T02:07:01.395109Z",
     "iopub.status.busy": "2023-11-07T02:07:01.394448Z",
     "iopub.status.idle": "2023-11-07T02:07:01.404546Z",
     "shell.execute_reply": "2023-11-07T02:07:01.403337Z"
    },
    "papermill": {
     "duration": 0.030845,
     "end_time": "2023-11-07T02:07:01.407103",
     "exception": false,
     "start_time": "2023-11-07T02:07:01.376258",
     "status": "completed"
    },
    "tags": []
   },
   "outputs": [
    {
     "name": "stdout",
     "output_type": "stream",
     "text": [
      "<class 'numpy.ndarray'>\n"
     ]
    },
    {
     "data": {
      "text/plain": [
       "array([[0., 0., 0., 0.],\n",
       "       [0., 0., 0., 1.],\n",
       "       [0., 0., 0., 1.],\n",
       "       [0., 1., 1., 0.]])"
      ]
     },
     "execution_count": 13,
     "metadata": {},
     "output_type": "execute_result"
    }
   ],
   "source": [
    "adj_matrix = adj_mat([[2, 3], [3, 1]], 4)\n",
    "print(type(adj_matrix))\n",
    "adj_matrix"
   ]
  },
  {
   "cell_type": "code",
   "execution_count": 14,
   "id": "ec620fb2",
   "metadata": {
    "execution": {
     "iopub.execute_input": "2023-11-07T02:07:01.443130Z",
     "iopub.status.busy": "2023-11-07T02:07:01.442725Z",
     "iopub.status.idle": "2023-11-07T02:07:01.453313Z",
     "shell.execute_reply": "2023-11-07T02:07:01.452174Z"
    },
    "papermill": {
     "duration": 0.031759,
     "end_time": "2023-11-07T02:07:01.455868",
     "exception": false,
     "start_time": "2023-11-07T02:07:01.424109",
     "status": "completed"
    },
    "tags": []
   },
   "outputs": [],
   "source": [
    "def topo_sort(edges):\n",
    "    indeg = {}\n",
    "    for edge in edges:\n",
    "        if(edge[0] not in indeg):\n",
    "            indeg[edge[0]] = 0\n",
    "        if(edge[1] not in indeg):\n",
    "            indeg[edge[1]] = 0\n",
    "        indeg[edge[1]] += 1\n",
    "    \n",
    "    queue = []\n",
    "    for node in indeg:\n",
    "        if(indeg[node] == 0):\n",
    "            queue.append(node)\n",
    "    topo_order = []\n",
    "    while(queue):\n",
    "        node = queue.pop()\n",
    "        topo_order.append(node)\n",
    "        for neighbour in [edge[1] for edge in edges if edge[0] == node]:\n",
    "            indeg[neighbour] -= 1\n",
    "            if(indeg[neighbour] == 0): \n",
    "                queue.append(neighbour)\n",
    "    # let's reorder the topological sort to be compatible with topo-order aware downsampling\n",
    "    topo_embd = []\n",
    "    for i, node in enumerate(topo_order):\n",
    "        topo_embd.append((node, i))\n",
    "    topo_embd = sorted(topo_embd)\n",
    "    topo_order = []\n",
    "    for node, i in topo_embd:\n",
    "        topo_order.append(i)\n",
    "    return topo_order"
   ]
  },
  {
   "cell_type": "code",
   "execution_count": 15,
   "id": "f572effd",
   "metadata": {
    "execution": {
     "iopub.execute_input": "2023-11-07T02:07:01.493314Z",
     "iopub.status.busy": "2023-11-07T02:07:01.492245Z",
     "iopub.status.idle": "2023-11-07T02:07:01.500152Z",
     "shell.execute_reply": "2023-11-07T02:07:01.499102Z"
    },
    "papermill": {
     "duration": 0.029146,
     "end_time": "2023-11-07T02:07:01.502441",
     "exception": false,
     "start_time": "2023-11-07T02:07:01.473295",
     "status": "completed"
    },
    "tags": []
   },
   "outputs": [
    {
     "data": {
      "text/plain": [
       "[2, 0, 1, 3]"
      ]
     },
     "execution_count": 15,
     "metadata": {},
     "output_type": "execute_result"
    }
   ],
   "source": [
    "edges = [[2, 3], [3, 1], [1, 4], [3, 4]]\n",
    "topo_sort(edges)"
   ]
  },
  {
   "cell_type": "code",
   "execution_count": 16,
   "id": "635642c8",
   "metadata": {
    "execution": {
     "iopub.execute_input": "2023-11-07T02:07:01.539154Z",
     "iopub.status.busy": "2023-11-07T02:07:01.538327Z",
     "iopub.status.idle": "2023-11-07T02:07:01.545877Z",
     "shell.execute_reply": "2023-11-07T02:07:01.544344Z"
    },
    "papermill": {
     "duration": 0.028695,
     "end_time": "2023-11-07T02:07:01.548401",
     "exception": false,
     "start_time": "2023-11-07T02:07:01.519706",
     "status": "completed"
    },
    "tags": []
   },
   "outputs": [],
   "source": [
    "def kipf_norm(adj_mats):\n",
    "    norm_mats = []\n",
    "    for adj_mat in adj_mats:\n",
    "        max_degree = torch.max(torch.sum(adj_mat, dim=1))\n",
    "        # add inv-deg term if convergence is slow\n",
    "        norm_mat = adj_mat / max_degree\n",
    "        norm_mats.append(norm_mat)\n",
    "    return torch.stack(norm_mats, axis=0)"
   ]
  },
  {
   "cell_type": "markdown",
   "id": "c3e0e0e7",
   "metadata": {
    "papermill": {
     "duration": 0.016898,
     "end_time": "2023-11-07T02:07:01.582492",
     "exception": false,
     "start_time": "2023-11-07T02:07:01.565594",
     "status": "completed"
    },
    "tags": []
   },
   "source": [
    "**TILE CONFIGURATION**"
   ]
  },
  {
   "cell_type": "code",
   "execution_count": 17,
   "id": "ba10df65",
   "metadata": {
    "execution": {
     "iopub.execute_input": "2023-11-07T02:07:01.618797Z",
     "iopub.status.busy": "2023-11-07T02:07:01.618361Z",
     "iopub.status.idle": "2023-11-07T02:07:33.950048Z",
     "shell.execute_reply": "2023-11-07T02:07:33.948806Z"
    },
    "papermill": {
     "duration": 32.353231,
     "end_time": "2023-11-07T02:07:33.952964",
     "exception": false,
     "start_time": "2023-11-07T02:07:01.599733",
     "status": "completed"
    },
    "tags": []
   },
   "outputs": [],
   "source": [
    "tile_xla = load_data('/kaggle/input/predict-ai-model-runtime/npz_all/npz/tile/xla/')"
   ]
  },
  {
   "cell_type": "code",
   "execution_count": 18,
   "id": "be68be4c",
   "metadata": {
    "execution": {
     "iopub.execute_input": "2023-11-07T02:07:33.992441Z",
     "iopub.status.busy": "2023-11-07T02:07:33.991187Z",
     "iopub.status.idle": "2023-11-07T02:07:33.997078Z",
     "shell.execute_reply": "2023-11-07T02:07:33.995804Z"
    },
    "papermill": {
     "duration": 0.028343,
     "end_time": "2023-11-07T02:07:33.999527",
     "exception": false,
     "start_time": "2023-11-07T02:07:33.971184",
     "status": "completed"
    },
    "tags": []
   },
   "outputs": [],
   "source": [
    "tilex_train = tile_xla['train']\n",
    "tilex_valid = tile_xla['valid']\n",
    "tilex_test = tile_xla['test']\n"
   ]
  },
  {
   "cell_type": "code",
   "execution_count": 19,
   "id": "975c4b4c",
   "metadata": {
    "execution": {
     "iopub.execute_input": "2023-11-07T02:07:34.035814Z",
     "iopub.status.busy": "2023-11-07T02:07:34.035370Z",
     "iopub.status.idle": "2023-11-07T02:07:34.690633Z",
     "shell.execute_reply": "2023-11-07T02:07:34.689440Z"
    },
    "papermill": {
     "duration": 0.676406,
     "end_time": "2023-11-07T02:07:34.693257",
     "exception": false,
     "start_time": "2023-11-07T02:07:34.016851",
     "status": "completed"
    },
    "tags": []
   },
   "outputs": [
    {
     "name": "stdout",
     "output_type": "stream",
     "text": [
      "(5709, 6)\n"
     ]
    },
    {
     "data": {
      "text/html": [
       "<div>\n",
       "<style scoped>\n",
       "    .dataframe tbody tr th:only-of-type {\n",
       "        vertical-align: middle;\n",
       "    }\n",
       "\n",
       "    .dataframe tbody tr th {\n",
       "        vertical-align: top;\n",
       "    }\n",
       "\n",
       "    .dataframe thead th {\n",
       "        text-align: right;\n",
       "    }\n",
       "</style>\n",
       "<table border=\"1\" class=\"dataframe\">\n",
       "  <thead>\n",
       "    <tr style=\"text-align: right;\">\n",
       "      <th></th>\n",
       "      <th>node_feat</th>\n",
       "      <th>node_opcode</th>\n",
       "      <th>edge_index</th>\n",
       "      <th>config_feat</th>\n",
       "      <th>config_runtime</th>\n",
       "      <th>config_runtime_normalizers</th>\n",
       "    </tr>\n",
       "  </thead>\n",
       "  <tbody>\n",
       "    <tr>\n",
       "      <th>0</th>\n",
       "      <td>[[0.0, 0.0, 0.0, 0.0, 0.0, 0.0, 0.0, 0.0, 0.0,...</td>\n",
       "      <td>[63, 63, 2, 63, 63, 2, 63, 11, 63, 11, 63, 24,...</td>\n",
       "      <td>[[2, 0], [2, 1], [5, 3], [5, 4], [7, 6], [9, 8...</td>\n",
       "      <td>[[16.0, 16.0, 1.0, 2.0, 0.0, 0.0, 35.0, 512.0,...</td>\n",
       "      <td>[238408, 5052251, 1873104, 2452158, 1872430, 1...</td>\n",
       "      <td>[238408, 238408, 238408, 238408, 238408, 23840...</td>\n",
       "    </tr>\n",
       "    <tr>\n",
       "      <th>1</th>\n",
       "      <td>[[0.0, 0.0, 0.0, 0.0, 0.0, 0.0, 0.0, 0.0, 0.0,...</td>\n",
       "      <td>[63, 63, 2, 63, 25, 63, 11, 63, 41, 63, 41, 26...</td>\n",
       "      <td>[[2, 0], [2, 1], [4, 3], [6, 5], [8, 6], [8, 7...</td>\n",
       "      <td>[[3.0, 3.0, 32.0, 2.0, 0.0, 0.0, 40.0, 576.0, ...</td>\n",
       "      <td>[1003878, 42948537, 6658438, 80260521, 2511620...</td>\n",
       "      <td>[1003878, 1003878, 1003878, 1003878, 1003878, ...</td>\n",
       "    </tr>\n",
       "    <tr>\n",
       "      <th>2</th>\n",
       "      <td>[[0.0, 0.0, 0.0, 0.0, 0.0, 0.0, 0.0, 0.0, 0.0,...</td>\n",
       "      <td>[63, 63, 2, 63, 11, 63, 11, 63, 25, 63, 13, 95...</td>\n",
       "      <td>[[2, 0], [2, 1], [4, 3], [6, 5], [8, 7], [10, ...</td>\n",
       "      <td>[[1.0, 3.0, 103.0, 2.0, 0.0, 0.0, 109.0, 618.0...</td>\n",
       "      <td>[23134, 421195, 421565, 88111, 155930, 176701,...</td>\n",
       "      <td>[23134, 23134, 23134, 23134, 23134, 23134, 231...</td>\n",
       "    </tr>\n",
       "    <tr>\n",
       "      <th>3</th>\n",
       "      <td>[[0.0, 0.0, 0.0, 0.0, 0.0, 0.0, 0.0, 0.0, 0.0,...</td>\n",
       "      <td>[63, 63, 2, 63, 63, 2, 63, 2, 25, 63, 13, 95, ...</td>\n",
       "      <td>[[2, 0], [2, 1], [5, 3], [5, 4], [7, 5], [7, 6...</td>\n",
       "      <td>[[0.0, 0.0, 0.0, 0.0, 0.0, 0.0, 0.0, 0.0, 32.0...</td>\n",
       "      <td>[25371, 26002, 39148, 25318, 58177, 31551, 253...</td>\n",
       "      <td>[25371, 25371, 25371, 25318, 25318, 25318, 253...</td>\n",
       "    </tr>\n",
       "    <tr>\n",
       "      <th>4</th>\n",
       "      <td>[[0.0, 0.0, 0.0, 0.0, 0.0, 0.0, 0.0, 0.0, 0.0,...</td>\n",
       "      <td>[63, 63, 2, 63, 25, 63, 13, 63, 25, 63, 13, 95...</td>\n",
       "      <td>[[2, 0], [2, 1], [4, 3], [6, 5], [8, 7], [10, ...</td>\n",
       "      <td>[[1.0, 1.0, 64.0, 2.0, 0.0, 0.0, 68.0, 128.0, ...</td>\n",
       "      <td>[100762, 553632, 986995, 590880, 793928, 16255...</td>\n",
       "      <td>[100762, 100762, 100762, 100762, 100762, 10076...</td>\n",
       "    </tr>\n",
       "  </tbody>\n",
       "</table>\n",
       "</div>"
      ],
      "text/plain": [
       "                                           node_feat  \\\n",
       "0  [[0.0, 0.0, 0.0, 0.0, 0.0, 0.0, 0.0, 0.0, 0.0,...   \n",
       "1  [[0.0, 0.0, 0.0, 0.0, 0.0, 0.0, 0.0, 0.0, 0.0,...   \n",
       "2  [[0.0, 0.0, 0.0, 0.0, 0.0, 0.0, 0.0, 0.0, 0.0,...   \n",
       "3  [[0.0, 0.0, 0.0, 0.0, 0.0, 0.0, 0.0, 0.0, 0.0,...   \n",
       "4  [[0.0, 0.0, 0.0, 0.0, 0.0, 0.0, 0.0, 0.0, 0.0,...   \n",
       "\n",
       "                                         node_opcode  \\\n",
       "0  [63, 63, 2, 63, 63, 2, 63, 11, 63, 11, 63, 24,...   \n",
       "1  [63, 63, 2, 63, 25, 63, 11, 63, 41, 63, 41, 26...   \n",
       "2  [63, 63, 2, 63, 11, 63, 11, 63, 25, 63, 13, 95...   \n",
       "3  [63, 63, 2, 63, 63, 2, 63, 2, 25, 63, 13, 95, ...   \n",
       "4  [63, 63, 2, 63, 25, 63, 13, 63, 25, 63, 13, 95...   \n",
       "\n",
       "                                          edge_index  \\\n",
       "0  [[2, 0], [2, 1], [5, 3], [5, 4], [7, 6], [9, 8...   \n",
       "1  [[2, 0], [2, 1], [4, 3], [6, 5], [8, 6], [8, 7...   \n",
       "2  [[2, 0], [2, 1], [4, 3], [6, 5], [8, 7], [10, ...   \n",
       "3  [[2, 0], [2, 1], [5, 3], [5, 4], [7, 5], [7, 6...   \n",
       "4  [[2, 0], [2, 1], [4, 3], [6, 5], [8, 7], [10, ...   \n",
       "\n",
       "                                         config_feat  \\\n",
       "0  [[16.0, 16.0, 1.0, 2.0, 0.0, 0.0, 35.0, 512.0,...   \n",
       "1  [[3.0, 3.0, 32.0, 2.0, 0.0, 0.0, 40.0, 576.0, ...   \n",
       "2  [[1.0, 3.0, 103.0, 2.0, 0.0, 0.0, 109.0, 618.0...   \n",
       "3  [[0.0, 0.0, 0.0, 0.0, 0.0, 0.0, 0.0, 0.0, 32.0...   \n",
       "4  [[1.0, 1.0, 64.0, 2.0, 0.0, 0.0, 68.0, 128.0, ...   \n",
       "\n",
       "                                      config_runtime  \\\n",
       "0  [238408, 5052251, 1873104, 2452158, 1872430, 1...   \n",
       "1  [1003878, 42948537, 6658438, 80260521, 2511620...   \n",
       "2  [23134, 421195, 421565, 88111, 155930, 176701,...   \n",
       "3  [25371, 26002, 39148, 25318, 58177, 31551, 253...   \n",
       "4  [100762, 553632, 986995, 590880, 793928, 16255...   \n",
       "\n",
       "                          config_runtime_normalizers  \n",
       "0  [238408, 238408, 238408, 238408, 238408, 23840...  \n",
       "1  [1003878, 1003878, 1003878, 1003878, 1003878, ...  \n",
       "2  [23134, 23134, 23134, 23134, 23134, 23134, 231...  \n",
       "3  [25371, 25371, 25371, 25318, 25318, 25318, 253...  \n",
       "4  [100762, 100762, 100762, 100762, 100762, 10076...  "
      ]
     },
     "execution_count": 19,
     "metadata": {},
     "output_type": "execute_result"
    }
   ],
   "source": [
    "print(tilex_train.shape)\n",
    "# convert all the edge_index to adjacency matrix\n",
    "# also add topo_order of edge_index\n",
    "tilex_train.head()"
   ]
  },
  {
   "cell_type": "code",
   "execution_count": 20,
   "id": "99204b4e",
   "metadata": {
    "execution": {
     "iopub.execute_input": "2023-11-07T02:07:34.731467Z",
     "iopub.status.busy": "2023-11-07T02:07:34.731041Z",
     "iopub.status.idle": "2023-11-07T02:07:34.738925Z",
     "shell.execute_reply": "2023-11-07T02:07:34.737465Z"
    },
    "papermill": {
     "duration": 0.030569,
     "end_time": "2023-11-07T02:07:34.741617",
     "exception": false,
     "start_time": "2023-11-07T02:07:34.711048",
     "status": "completed"
    },
    "tags": []
   },
   "outputs": [],
   "source": [
    "# prepare train data 1\n",
    "test = False\n",
    "if test:\n",
    "    tile_train = tilex_train.head(len(tilex_train)//2).copy(deep=True)\n",
    "    tile_train['topo_order'] = tile_train['edge_index'].map(lambda e: topo_sort(e))\n",
    "    tile_train['edge_index'] = tile_train['edge_index'].map(lambda e: adj_mat(e, max([max(edge) for edge in e])+1))\n",
    "    tile_train = make_data(tile_train)\n",
    "    tile_train.to_pickle(\"/kaggle/working/tiler_train1.pkl\")"
   ]
  },
  {
   "cell_type": "code",
   "execution_count": 21,
   "id": "5f730800",
   "metadata": {
    "execution": {
     "iopub.execute_input": "2023-11-07T02:07:34.780125Z",
     "iopub.status.busy": "2023-11-07T02:07:34.779279Z",
     "iopub.status.idle": "2023-11-07T02:07:34.787275Z",
     "shell.execute_reply": "2023-11-07T02:07:34.786324Z"
    },
    "papermill": {
     "duration": 0.030312,
     "end_time": "2023-11-07T02:07:34.789863",
     "exception": false,
     "start_time": "2023-11-07T02:07:34.759551",
     "status": "completed"
    },
    "tags": []
   },
   "outputs": [],
   "source": [
    "# prepare train data 2\n",
    "test = False\n",
    "if test:\n",
    "    b = len(tilex_train)//2\n",
    "    tile_train = tilex_train.tail(len(tilex_train)-b).copy(deep=True)\n",
    "    tile_train['topo_order'] = tile_train['edge_index'].map(lambda e: topo_sort(e))\n",
    "    tile_train['edge_index'] = tile_train['edge_index'].map(lambda e: adj_mat(e, max([max(edge) for edge in e])+1))\n",
    "    tile_train = make_data(tile_train, b)\n",
    "    tile_train.to_pickle('/kaggle/working/tiler_train2.pkl')"
   ]
  },
  {
   "cell_type": "code",
   "execution_count": 22,
   "id": "d157e2da",
   "metadata": {
    "execution": {
     "iopub.execute_input": "2023-11-07T02:07:34.828899Z",
     "iopub.status.busy": "2023-11-07T02:07:34.828071Z",
     "iopub.status.idle": "2023-11-07T02:07:34.835331Z",
     "shell.execute_reply": "2023-11-07T02:07:34.834416Z"
    },
    "papermill": {
     "duration": 0.029671,
     "end_time": "2023-11-07T02:07:34.837891",
     "exception": false,
     "start_time": "2023-11-07T02:07:34.808220",
     "status": "completed"
    },
    "tags": []
   },
   "outputs": [],
   "source": [
    "# prepare valid data\n",
    "test = False\n",
    "if test:\n",
    "    tile_val = tilex_valid.copy(deep=True)\n",
    "    tile_val['topo_order'] = tile_val['edge_index'].map(lambda e: topo_sort(e))\n",
    "    tile_val['edge_index'] = tile_val['edge_index'].map(lambda e: adj_mat(e, max([max(edge) for edge in e])+1))\n",
    "    tile_val = make_data(tile_val)\n",
    "    tile_val.to_pickle('/kaggle/working/tiler_val.pkl')"
   ]
  },
  {
   "cell_type": "code",
   "execution_count": 23,
   "id": "613ca8dc",
   "metadata": {
    "execution": {
     "iopub.execute_input": "2023-11-07T02:07:34.875647Z",
     "iopub.status.busy": "2023-11-07T02:07:34.874867Z",
     "iopub.status.idle": "2023-11-07T02:07:34.883017Z",
     "shell.execute_reply": "2023-11-07T02:07:34.882107Z"
    },
    "papermill": {
     "duration": 0.02997,
     "end_time": "2023-11-07T02:07:34.885572",
     "exception": false,
     "start_time": "2023-11-07T02:07:34.855602",
     "status": "completed"
    },
    "tags": []
   },
   "outputs": [],
   "source": [
    "# test GNN, gConv, data preprocessing steps\n",
    "toy = tilex_train.head(1).copy(deep=True)\n",
    "n = toy.node_feat[0].shape[0]\n",
    "toy['topo_order'] = toy['edge_index'].map(lambda e: topo_sort(e))"
   ]
  },
  {
   "cell_type": "code",
   "execution_count": 24,
   "id": "47306631",
   "metadata": {
    "execution": {
     "iopub.execute_input": "2023-11-07T02:07:34.923706Z",
     "iopub.status.busy": "2023-11-07T02:07:34.923283Z",
     "iopub.status.idle": "2023-11-07T02:07:35.064626Z",
     "shell.execute_reply": "2023-11-07T02:07:35.063451Z"
    },
    "papermill": {
     "duration": 0.163515,
     "end_time": "2023-11-07T02:07:35.067193",
     "exception": false,
     "start_time": "2023-11-07T02:07:34.903678",
     "status": "completed"
    },
    "tags": []
   },
   "outputs": [
    {
     "data": {
      "text/html": [
       "<div>\n",
       "<style scoped>\n",
       "    .dataframe tbody tr th:only-of-type {\n",
       "        vertical-align: middle;\n",
       "    }\n",
       "\n",
       "    .dataframe tbody tr th {\n",
       "        vertical-align: top;\n",
       "    }\n",
       "\n",
       "    .dataframe thead th {\n",
       "        text-align: right;\n",
       "    }\n",
       "</style>\n",
       "<table border=\"1\" class=\"dataframe\">\n",
       "  <thead>\n",
       "    <tr style=\"text-align: right;\">\n",
       "      <th></th>\n",
       "      <th>node_feat</th>\n",
       "      <th>node_opcode</th>\n",
       "      <th>edge_index</th>\n",
       "      <th>config_feat</th>\n",
       "      <th>config_runtime</th>\n",
       "      <th>config_runtime_normalizers</th>\n",
       "      <th>topo_order</th>\n",
       "    </tr>\n",
       "  </thead>\n",
       "  <tbody>\n",
       "    <tr>\n",
       "      <th>0</th>\n",
       "      <td>[[0.0, 0.0, 0.0, 0.0, 0.0, 0.0, 0.0, 0.0, 0.0,...</td>\n",
       "      <td>[63, 63, 2, 63, 63, 2, 63, 11, 63, 11, 63, 24,...</td>\n",
       "      <td>[[0.0, 0.0, 1.0, 0.0, 0.0, 0.0, 0.0, 0.0, 0.0,...</td>\n",
       "      <td>[[16.0, 16.0, 1.0, 2.0, 0.0, 0.0, 35.0, 512.0,...</td>\n",
       "      <td>[238408, 5052251, 1873104, 2452158, 1872430, 1...</td>\n",
       "      <td>[238408, 238408, 238408, 238408, 238408, 23840...</td>\n",
       "      <td>[30, 29, 28, 9, 8, 7, 23, 22, 19, 18, 27, 26, ...</td>\n",
       "    </tr>\n",
       "  </tbody>\n",
       "</table>\n",
       "</div>"
      ],
      "text/plain": [
       "                                           node_feat  \\\n",
       "0  [[0.0, 0.0, 0.0, 0.0, 0.0, 0.0, 0.0, 0.0, 0.0,...   \n",
       "\n",
       "                                         node_opcode  \\\n",
       "0  [63, 63, 2, 63, 63, 2, 63, 11, 63, 11, 63, 24,...   \n",
       "\n",
       "                                          edge_index  \\\n",
       "0  [[0.0, 0.0, 1.0, 0.0, 0.0, 0.0, 0.0, 0.0, 0.0,...   \n",
       "\n",
       "                                         config_feat  \\\n",
       "0  [[16.0, 16.0, 1.0, 2.0, 0.0, 0.0, 35.0, 512.0,...   \n",
       "\n",
       "                                      config_runtime  \\\n",
       "0  [238408, 5052251, 1873104, 2452158, 1872430, 1...   \n",
       "\n",
       "                          config_runtime_normalizers  \\\n",
       "0  [238408, 238408, 238408, 238408, 238408, 23840...   \n",
       "\n",
       "                                          topo_order  \n",
       "0  [30, 29, 28, 9, 8, 7, 23, 22, 19, 18, 27, 26, ...  "
      ]
     },
     "execution_count": 24,
     "metadata": {},
     "output_type": "execute_result"
    }
   ],
   "source": [
    "# edge_index -> adj_matrix\n",
    "toy['edge_index'] = toy['edge_index'].map(lambda e: adj_mat(e, n))\n",
    "toy"
   ]
  },
  {
   "cell_type": "code",
   "execution_count": 25,
   "id": "171ae5d6",
   "metadata": {
    "execution": {
     "iopub.execute_input": "2023-11-07T02:07:35.105110Z",
     "iopub.status.busy": "2023-11-07T02:07:35.104685Z",
     "iopub.status.idle": "2023-11-07T02:07:35.241282Z",
     "shell.execute_reply": "2023-11-07T02:07:35.240112Z"
    },
    "papermill": {
     "duration": 0.158816,
     "end_time": "2023-11-07T02:07:35.244092",
     "exception": false,
     "start_time": "2023-11-07T02:07:35.085276",
     "status": "completed"
    },
    "tags": []
   },
   "outputs": [
    {
     "name": "stdout",
     "output_type": "stream",
     "text": [
      "(31, 31)\n"
     ]
    },
    {
     "data": {
      "text/html": [
       "<div>\n",
       "<style scoped>\n",
       "    .dataframe tbody tr th:only-of-type {\n",
       "        vertical-align: middle;\n",
       "    }\n",
       "\n",
       "    .dataframe tbody tr th {\n",
       "        vertical-align: top;\n",
       "    }\n",
       "\n",
       "    .dataframe thead th {\n",
       "        text-align: right;\n",
       "    }\n",
       "</style>\n",
       "<table border=\"1\" class=\"dataframe\">\n",
       "  <thead>\n",
       "    <tr style=\"text-align: right;\">\n",
       "      <th></th>\n",
       "      <th>node_feat</th>\n",
       "      <th>node_opcode</th>\n",
       "      <th>edge_index</th>\n",
       "      <th>config_feat</th>\n",
       "      <th>config_runtime</th>\n",
       "      <th>config_runtime_normalizers</th>\n",
       "      <th>topo_order</th>\n",
       "    </tr>\n",
       "  </thead>\n",
       "  <tbody>\n",
       "    <tr>\n",
       "      <th>0</th>\n",
       "      <td>[[0.0, 0.0, 0.0, 0.0, 0.0, 0.0, 0.0, 0.0, 0.0,...</td>\n",
       "      <td>[63, 63, 2, 63, 63, 2, 63, 11, 63, 11, 63, 24,...</td>\n",
       "      <td>[[0.0, 0.0, 1.0, 0.0, 0.0, 0.0, 0.0, 0.0, 0.0,...</td>\n",
       "      <td>[[16.0, 16.0, 1.0, 2.0, 0.0, 0.0, 35.0, 512.0,...</td>\n",
       "      <td>[238408, 5052251, 1873104, 2452158, 1872430, 1...</td>\n",
       "      <td>[238408, 238408, 238408, 238408, 238408, 23840...</td>\n",
       "      <td>[30, 29, 28, 9, 8, 7, 23, 22, 19, 18, 27, 26, ...</td>\n",
       "    </tr>\n",
       "  </tbody>\n",
       "</table>\n",
       "</div>"
      ],
      "text/plain": [
       "                                           node_feat  \\\n",
       "0  [[0.0, 0.0, 0.0, 0.0, 0.0, 0.0, 0.0, 0.0, 0.0,...   \n",
       "\n",
       "                                         node_opcode  \\\n",
       "0  [63, 63, 2, 63, 63, 2, 63, 11, 63, 11, 63, 24,...   \n",
       "\n",
       "                                          edge_index  \\\n",
       "0  [[0.0, 0.0, 1.0, 0.0, 0.0, 0.0, 0.0, 0.0, 0.0,...   \n",
       "\n",
       "                                         config_feat  \\\n",
       "0  [[16.0, 16.0, 1.0, 2.0, 0.0, 0.0, 35.0, 512.0,...   \n",
       "\n",
       "                                      config_runtime  \\\n",
       "0  [238408, 5052251, 1873104, 2452158, 1872430, 1...   \n",
       "\n",
       "                          config_runtime_normalizers  \\\n",
       "0  [238408, 238408, 238408, 238408, 238408, 23840...   \n",
       "\n",
       "                                          topo_order  \n",
       "0  [30, 29, 28, 9, 8, 7, 23, 22, 19, 18, 27, 26, ...  "
      ]
     },
     "execution_count": 25,
     "metadata": {},
     "output_type": "execute_result"
    }
   ],
   "source": [
    "print(toy.edge_index[0].shape)\n",
    "toy"
   ]
  },
  {
   "cell_type": "code",
   "execution_count": 26,
   "id": "70ea5083",
   "metadata": {
    "execution": {
     "iopub.execute_input": "2023-11-07T02:07:35.285298Z",
     "iopub.status.busy": "2023-11-07T02:07:35.284861Z",
     "iopub.status.idle": "2023-11-07T02:07:44.014802Z",
     "shell.execute_reply": "2023-11-07T02:07:44.013584Z"
    },
    "papermill": {
     "duration": 8.754731,
     "end_time": "2023-11-07T02:07:44.017591",
     "exception": false,
     "start_time": "2023-11-07T02:07:35.262860",
     "status": "completed"
    },
    "tags": []
   },
   "outputs": [
    {
     "data": {
      "text/html": [
       "<div>\n",
       "<style scoped>\n",
       "    .dataframe tbody tr th:only-of-type {\n",
       "        vertical-align: middle;\n",
       "    }\n",
       "\n",
       "    .dataframe tbody tr th {\n",
       "        vertical-align: top;\n",
       "    }\n",
       "\n",
       "    .dataframe thead th {\n",
       "        text-align: right;\n",
       "    }\n",
       "</style>\n",
       "<table border=\"1\" class=\"dataframe\">\n",
       "  <thead>\n",
       "    <tr style=\"text-align: right;\">\n",
       "      <th></th>\n",
       "      <th>node_feat</th>\n",
       "      <th>node_opcode</th>\n",
       "      <th>edge_index</th>\n",
       "      <th>config_feat</th>\n",
       "      <th>topo_order</th>\n",
       "      <th>avg_runtime</th>\n",
       "    </tr>\n",
       "  </thead>\n",
       "  <tbody>\n",
       "    <tr>\n",
       "      <th>0</th>\n",
       "      <td>[[0.0, 0.0, 0.0, 0.0, 0.0, 0.0, 0.0, 0.0, 0.0,...</td>\n",
       "      <td>[63, 63, 2, 63, 63, 2, 63, 11, 63, 11, 63, 24,...</td>\n",
       "      <td>[[0.0, 0.0, 1.0, 0.0, 0.0, 0.0, 0.0, 0.0, 0.0,...</td>\n",
       "      <td>[16.0, 16.0, 1.0, 2.0, 0.0, 0.0, 35.0, 512.0, ...</td>\n",
       "      <td>[30, 29, 28, 9, 8, 7, 23, 22, 19, 18, 27, 26, ...</td>\n",
       "      <td>1.0</td>\n",
       "    </tr>\n",
       "    <tr>\n",
       "      <th>1</th>\n",
       "      <td>[[0.0, 0.0, 0.0, 0.0, 0.0, 0.0, 0.0, 0.0, 0.0,...</td>\n",
       "      <td>[63, 63, 2, 63, 63, 2, 63, 11, 63, 11, 63, 24,...</td>\n",
       "      <td>[[0.0, 0.0, 1.0, 0.0, 0.0, 0.0, 0.0, 0.0, 0.0,...</td>\n",
       "      <td>[3.0, 2.0, 1.0, 1.0, 0.0, 0.0, 7.0, 6.0, 1.0, ...</td>\n",
       "      <td>[30, 29, 28, 9, 8, 7, 23, 22, 19, 18, 27, 26, ...</td>\n",
       "      <td>21.191617</td>\n",
       "    </tr>\n",
       "    <tr>\n",
       "      <th>2</th>\n",
       "      <td>[[0.0, 0.0, 0.0, 0.0, 0.0, 0.0, 0.0, 0.0, 0.0,...</td>\n",
       "      <td>[63, 63, 2, 63, 63, 2, 63, 11, 63, 11, 63, 24,...</td>\n",
       "      <td>[[0.0, 0.0, 1.0, 0.0, 0.0, 0.0, 0.0, 0.0, 0.0,...</td>\n",
       "      <td>[1.0, 14.0, 1.0, 1.0, 0.0, 0.0, 17.0, 14.0, 1....</td>\n",
       "      <td>[30, 29, 28, 9, 8, 7, 23, 22, 19, 18, 27, 26, ...</td>\n",
       "      <td>7.856716</td>\n",
       "    </tr>\n",
       "    <tr>\n",
       "      <th>3</th>\n",
       "      <td>[[0.0, 0.0, 0.0, 0.0, 0.0, 0.0, 0.0, 0.0, 0.0,...</td>\n",
       "      <td>[63, 63, 2, 63, 63, 2, 63, 11, 63, 11, 63, 24,...</td>\n",
       "      <td>[[0.0, 0.0, 1.0, 0.0, 0.0, 0.0, 0.0, 0.0, 0.0,...</td>\n",
       "      <td>[14.0, 1.0, 1.0, 1.0, 0.0, 0.0, 17.0, 14.0, 1....</td>\n",
       "      <td>[30, 29, 28, 9, 8, 7, 23, 22, 19, 18, 27, 26, ...</td>\n",
       "      <td>10.285552</td>\n",
       "    </tr>\n",
       "    <tr>\n",
       "      <th>4</th>\n",
       "      <td>[[0.0, 0.0, 0.0, 0.0, 0.0, 0.0, 0.0, 0.0, 0.0,...</td>\n",
       "      <td>[63, 63, 2, 63, 63, 2, 63, 11, 63, 11, 63, 24,...</td>\n",
       "      <td>[[0.0, 0.0, 1.0, 0.0, 0.0, 0.0, 0.0, 0.0, 0.0,...</td>\n",
       "      <td>[12.0, 2.0, 1.0, 1.0, 0.0, 0.0, 16.0, 24.0, 1....</td>\n",
       "      <td>[30, 29, 28, 9, 8, 7, 23, 22, 19, 18, 27, 26, ...</td>\n",
       "      <td>7.853889</td>\n",
       "    </tr>\n",
       "    <tr>\n",
       "      <th>...</th>\n",
       "      <td>...</td>\n",
       "      <td>...</td>\n",
       "      <td>...</td>\n",
       "      <td>...</td>\n",
       "      <td>...</td>\n",
       "      <td>...</td>\n",
       "    </tr>\n",
       "    <tr>\n",
       "      <th>1532</th>\n",
       "      <td>[[0.0, 0.0, 0.0, 0.0, 0.0, 0.0, 0.0, 0.0, 0.0,...</td>\n",
       "      <td>[63, 63, 2, 63, 63, 2, 63, 11, 63, 11, 63, 24,...</td>\n",
       "      <td>[[0.0, 0.0, 1.0, 0.0, 0.0, 0.0, 0.0, 0.0, 0.0,...</td>\n",
       "      <td>[80.0, 7.0, 1.0, 1.0, 0.0, 0.0, 89.0, 560.0, 1...</td>\n",
       "      <td>[30, 29, 28, 9, 8, 7, 23, 22, 19, 18, 27, 26, ...</td>\n",
       "      <td>9.021717</td>\n",
       "    </tr>\n",
       "    <tr>\n",
       "      <th>1533</th>\n",
       "      <td>[[0.0, 0.0, 0.0, 0.0, 0.0, 0.0, 0.0, 0.0, 0.0,...</td>\n",
       "      <td>[63, 63, 2, 63, 63, 2, 63, 11, 63, 11, 63, 24,...</td>\n",
       "      <td>[[0.0, 0.0, 1.0, 0.0, 0.0, 0.0, 0.0, 0.0, 0.0,...</td>\n",
       "      <td>[40.0, 10.0, 1.0, 2.0, 0.0, 0.0, 53.0, 800.0, ...</td>\n",
       "      <td>[30, 29, 28, 9, 8, 7, 23, 22, 19, 18, 27, 26, ...</td>\n",
       "      <td>1.761068</td>\n",
       "    </tr>\n",
       "    <tr>\n",
       "      <th>1534</th>\n",
       "      <td>[[0.0, 0.0, 0.0, 0.0, 0.0, 0.0, 0.0, 0.0, 0.0,...</td>\n",
       "      <td>[63, 63, 2, 63, 63, 2, 63, 11, 63, 11, 63, 24,...</td>\n",
       "      <td>[[0.0, 0.0, 1.0, 0.0, 0.0, 0.0, 0.0, 0.0, 0.0,...</td>\n",
       "      <td>[20.0, 20.0, 1.0, 2.0, 0.0, 0.0, 43.0, 800.0, ...</td>\n",
       "      <td>[30, 29, 28, 9, 8, 7, 23, 22, 19, 18, 27, 26, ...</td>\n",
       "      <td>1.168978</td>\n",
       "    </tr>\n",
       "    <tr>\n",
       "      <th>1535</th>\n",
       "      <td>[[0.0, 0.0, 0.0, 0.0, 0.0, 0.0, 0.0, 0.0, 0.0,...</td>\n",
       "      <td>[63, 63, 2, 63, 63, 2, 63, 11, 63, 11, 63, 24,...</td>\n",
       "      <td>[[0.0, 0.0, 1.0, 0.0, 0.0, 0.0, 0.0, 0.0, 0.0,...</td>\n",
       "      <td>[3.0, 80.0, 1.0, 2.0, 0.0, 0.0, 86.0, 480.0, 1...</td>\n",
       "      <td>[30, 29, 28, 9, 8, 7, 23, 22, 19, 18, 27, 26, ...</td>\n",
       "      <td>1.011211</td>\n",
       "    </tr>\n",
       "    <tr>\n",
       "      <th>1536</th>\n",
       "      <td>[[0.0, 0.0, 0.0, 0.0, 0.0, 0.0, 0.0, 0.0, 0.0,...</td>\n",
       "      <td>[63, 63, 2, 63, 63, 2, 63, 11, 63, 11, 63, 24,...</td>\n",
       "      <td>[[0.0, 0.0, 1.0, 0.0, 0.0, 0.0, 0.0, 0.0, 0.0,...</td>\n",
       "      <td>[80.0, 3.0, 1.0, 2.0, 0.0, 0.0, 86.0, 480.0, 1...</td>\n",
       "      <td>[30, 29, 28, 9, 8, 7, 23, 22, 19, 18, 27, 26, ...</td>\n",
       "      <td>1.0165</td>\n",
       "    </tr>\n",
       "  </tbody>\n",
       "</table>\n",
       "<p>1537 rows × 6 columns</p>\n",
       "</div>"
      ],
      "text/plain": [
       "                                              node_feat  \\\n",
       "0     [[0.0, 0.0, 0.0, 0.0, 0.0, 0.0, 0.0, 0.0, 0.0,...   \n",
       "1     [[0.0, 0.0, 0.0, 0.0, 0.0, 0.0, 0.0, 0.0, 0.0,...   \n",
       "2     [[0.0, 0.0, 0.0, 0.0, 0.0, 0.0, 0.0, 0.0, 0.0,...   \n",
       "3     [[0.0, 0.0, 0.0, 0.0, 0.0, 0.0, 0.0, 0.0, 0.0,...   \n",
       "4     [[0.0, 0.0, 0.0, 0.0, 0.0, 0.0, 0.0, 0.0, 0.0,...   \n",
       "...                                                 ...   \n",
       "1532  [[0.0, 0.0, 0.0, 0.0, 0.0, 0.0, 0.0, 0.0, 0.0,...   \n",
       "1533  [[0.0, 0.0, 0.0, 0.0, 0.0, 0.0, 0.0, 0.0, 0.0,...   \n",
       "1534  [[0.0, 0.0, 0.0, 0.0, 0.0, 0.0, 0.0, 0.0, 0.0,...   \n",
       "1535  [[0.0, 0.0, 0.0, 0.0, 0.0, 0.0, 0.0, 0.0, 0.0,...   \n",
       "1536  [[0.0, 0.0, 0.0, 0.0, 0.0, 0.0, 0.0, 0.0, 0.0,...   \n",
       "\n",
       "                                            node_opcode  \\\n",
       "0     [63, 63, 2, 63, 63, 2, 63, 11, 63, 11, 63, 24,...   \n",
       "1     [63, 63, 2, 63, 63, 2, 63, 11, 63, 11, 63, 24,...   \n",
       "2     [63, 63, 2, 63, 63, 2, 63, 11, 63, 11, 63, 24,...   \n",
       "3     [63, 63, 2, 63, 63, 2, 63, 11, 63, 11, 63, 24,...   \n",
       "4     [63, 63, 2, 63, 63, 2, 63, 11, 63, 11, 63, 24,...   \n",
       "...                                                 ...   \n",
       "1532  [63, 63, 2, 63, 63, 2, 63, 11, 63, 11, 63, 24,...   \n",
       "1533  [63, 63, 2, 63, 63, 2, 63, 11, 63, 11, 63, 24,...   \n",
       "1534  [63, 63, 2, 63, 63, 2, 63, 11, 63, 11, 63, 24,...   \n",
       "1535  [63, 63, 2, 63, 63, 2, 63, 11, 63, 11, 63, 24,...   \n",
       "1536  [63, 63, 2, 63, 63, 2, 63, 11, 63, 11, 63, 24,...   \n",
       "\n",
       "                                             edge_index  \\\n",
       "0     [[0.0, 0.0, 1.0, 0.0, 0.0, 0.0, 0.0, 0.0, 0.0,...   \n",
       "1     [[0.0, 0.0, 1.0, 0.0, 0.0, 0.0, 0.0, 0.0, 0.0,...   \n",
       "2     [[0.0, 0.0, 1.0, 0.0, 0.0, 0.0, 0.0, 0.0, 0.0,...   \n",
       "3     [[0.0, 0.0, 1.0, 0.0, 0.0, 0.0, 0.0, 0.0, 0.0,...   \n",
       "4     [[0.0, 0.0, 1.0, 0.0, 0.0, 0.0, 0.0, 0.0, 0.0,...   \n",
       "...                                                 ...   \n",
       "1532  [[0.0, 0.0, 1.0, 0.0, 0.0, 0.0, 0.0, 0.0, 0.0,...   \n",
       "1533  [[0.0, 0.0, 1.0, 0.0, 0.0, 0.0, 0.0, 0.0, 0.0,...   \n",
       "1534  [[0.0, 0.0, 1.0, 0.0, 0.0, 0.0, 0.0, 0.0, 0.0,...   \n",
       "1535  [[0.0, 0.0, 1.0, 0.0, 0.0, 0.0, 0.0, 0.0, 0.0,...   \n",
       "1536  [[0.0, 0.0, 1.0, 0.0, 0.0, 0.0, 0.0, 0.0, 0.0,...   \n",
       "\n",
       "                                            config_feat  \\\n",
       "0     [16.0, 16.0, 1.0, 2.0, 0.0, 0.0, 35.0, 512.0, ...   \n",
       "1     [3.0, 2.0, 1.0, 1.0, 0.0, 0.0, 7.0, 6.0, 1.0, ...   \n",
       "2     [1.0, 14.0, 1.0, 1.0, 0.0, 0.0, 17.0, 14.0, 1....   \n",
       "3     [14.0, 1.0, 1.0, 1.0, 0.0, 0.0, 17.0, 14.0, 1....   \n",
       "4     [12.0, 2.0, 1.0, 1.0, 0.0, 0.0, 16.0, 24.0, 1....   \n",
       "...                                                 ...   \n",
       "1532  [80.0, 7.0, 1.0, 1.0, 0.0, 0.0, 89.0, 560.0, 1...   \n",
       "1533  [40.0, 10.0, 1.0, 2.0, 0.0, 0.0, 53.0, 800.0, ...   \n",
       "1534  [20.0, 20.0, 1.0, 2.0, 0.0, 0.0, 43.0, 800.0, ...   \n",
       "1535  [3.0, 80.0, 1.0, 2.0, 0.0, 0.0, 86.0, 480.0, 1...   \n",
       "1536  [80.0, 3.0, 1.0, 2.0, 0.0, 0.0, 86.0, 480.0, 1...   \n",
       "\n",
       "                                             topo_order avg_runtime  \n",
       "0     [30, 29, 28, 9, 8, 7, 23, 22, 19, 18, 27, 26, ...         1.0  \n",
       "1     [30, 29, 28, 9, 8, 7, 23, 22, 19, 18, 27, 26, ...   21.191617  \n",
       "2     [30, 29, 28, 9, 8, 7, 23, 22, 19, 18, 27, 26, ...    7.856716  \n",
       "3     [30, 29, 28, 9, 8, 7, 23, 22, 19, 18, 27, 26, ...   10.285552  \n",
       "4     [30, 29, 28, 9, 8, 7, 23, 22, 19, 18, 27, 26, ...    7.853889  \n",
       "...                                                 ...         ...  \n",
       "1532  [30, 29, 28, 9, 8, 7, 23, 22, 19, 18, 27, 26, ...    9.021717  \n",
       "1533  [30, 29, 28, 9, 8, 7, 23, 22, 19, 18, 27, 26, ...    1.761068  \n",
       "1534  [30, 29, 28, 9, 8, 7, 23, 22, 19, 18, 27, 26, ...    1.168978  \n",
       "1535  [30, 29, 28, 9, 8, 7, 23, 22, 19, 18, 27, 26, ...    1.011211  \n",
       "1536  [30, 29, 28, 9, 8, 7, 23, 22, 19, 18, 27, 26, ...      1.0165  \n",
       "\n",
       "[1537 rows x 6 columns]"
      ]
     },
     "execution_count": 26,
     "metadata": {},
     "output_type": "execute_result"
    }
   ],
   "source": [
    "# apply GNN, gConv on toy\n",
    "import warnings\n",
    "warnings.filterwarnings('ignore')\n",
    "made_toy = make_data(toy)\n",
    "made_toy"
   ]
  },
  {
   "cell_type": "code",
   "execution_count": 27,
   "id": "eb6320bb",
   "metadata": {
    "execution": {
     "iopub.execute_input": "2023-11-07T02:07:44.057456Z",
     "iopub.status.busy": "2023-11-07T02:07:44.057021Z",
     "iopub.status.idle": "2023-11-07T02:07:44.232091Z",
     "shell.execute_reply": "2023-11-07T02:07:44.231233Z"
    },
    "papermill": {
     "duration": 0.198,
     "end_time": "2023-11-07T02:07:44.234775",
     "exception": false,
     "start_time": "2023-11-07T02:07:44.036775",
     "status": "completed"
    },
    "tags": []
   },
   "outputs": [
    {
     "data": {
      "text/plain": [
       "[[tensor([[ 63,  63,   2,  63,  63,   2,  63,  11,  63,  11,  63,  24,  13,  59,\n",
       "            63,  41,  63,  41,  26,  25,   2,  59,  24,  70,  59,  70, 100,  63,\n",
       "            63,  63,  41,   0,   0,   0,   0,   0,   0,   0,   0,   0,   0,   0,\n",
       "             0,   0,   0,   0,   0,   0,   0,   0,   0,   0,   0,   0,   0,   0,\n",
       "             0,   0,   0,   0,   0,   0,   0,   0,   0,   0,   0,   0,   0,   0,\n",
       "             0,   0,   0,   0,   0,   0,   0,   0,   0,   0,   0,   0,   0,   0,\n",
       "             0,   0,   0,   0,   0,   0,   0,   0,   0,   0,   0,   0,   0,   0,\n",
       "             0,   0,   0,   0,   0,   0,   0,   0,   0,   0,   0,   0,   0,   0,\n",
       "             0,   0,   0,   0,   0,   0,   0,   0,   0,   0,   0,   0,   0,   0,\n",
       "             0,   0,   0,   0,   0,   0,   0,   0,   0,   0,   0,   0,   0,   0,\n",
       "             0,   0,   0,   0,   0,   0,   0,   0,   0,   0,   0,   0,   0,   0,\n",
       "             0,   0,   0,   0,   0,   0,   0,   0,   0,   0,   0,   0,   0,   0,\n",
       "             0,   0,   0,   0,   0,   0,   0,   0,   0,   0,   0,   0,   0,   0,\n",
       "             0,   0,   0,   0,   0,   0,   0,   0,   0,   0,   0,   0,   0,   0,\n",
       "             0,   0,   0,   0,   0,   0,   0,   0,   0,   0,   0,   0,   0,   0,\n",
       "             0,   0,   0,   0,   0,   0,   0,   0,   0,   0,   0,   0,   0,   0,\n",
       "             0,   0,   0,   0,   0,   0,   0,   0,   0,   0,   0,   0,   0,   0,\n",
       "             0,   0,   0,   0,   0,   0,   0,   0,   0,   0,   0,   0,   0,   0,\n",
       "             0,   0,   0,   0,   0,   0,   0,   0,   0,   0,   0,   0,   0,   0,\n",
       "             0,   0,   0,   0,   0,   0,   0,   0,   0,   0,   0,   0,   0,   0,\n",
       "             0,   0,   0,   0,   0,   0,   0,   0,   0,   0,   0,   0,   0,   0,\n",
       "             0,   0,   0,   0,   0,   0,   0,   0,   0,   0,   0,   0,   0,   0,\n",
       "             0,   0,   0,   0,   0,   0,   0,   0,   0,   0,   0,   0,   0,   0,\n",
       "             0,   0,   0,   0,   0,   0,   0,   0,   0,   0,   0,   0,   0,   0,\n",
       "             0,   0,   0,   0,   0,   0,   0,   0,   0,   0,   0,   0,   0,   0,\n",
       "             0,   0,   0,   0,   0,   0,   0,   0,   0,   0,   0,   0,   0,   0,\n",
       "             0,   0,   0,   0,   0,   0,   0,   0,   0,   0,   0,   0,   0,   0,\n",
       "             0,   0,   0,   0,   0,   0,   0,   0,   0,   0,   0,   0,   0,   0,\n",
       "             0,   0,   0,   0,   0,   0,   0,   0,   0,   0,   0,   0,   0,   0,\n",
       "             0,   0,   0,   0,   0,   0,   0,   0,   0,   0,   0,   0,   0,   0,\n",
       "             0,   0,   0,   0,   0,   0,   0,   0,   0,   0,   0,   0,   0,   0,\n",
       "             0,   0,   0,   0,   0,   0,   0,   0,   0,   0,   0,   0,   0,   0,\n",
       "             0,   0,   0,   0,   0,   0,   0,   0,   0,   0,   0,   0,   0,   0,\n",
       "             0,   0,   0,   0,   0,   0,   0,   0,   0,   0,   0,   0,   0,   0,\n",
       "             0,   0,   0,   0,   0,   0,   0,   0,   0,   0,   0,   0,   0,   0,\n",
       "             0,   0,   0,   0,   0,   0,   0,   0,   0,   0],\n",
       "          [ 63,  63,   2,  63,  63,   2,  63,  11,  63,  11,  63,  24,  13,  59,\n",
       "            63,  41,  63,  41,  26,  25,   2,  59,  24,  70,  59,  70, 100,  63,\n",
       "            63,  63,  41,   0,   0,   0,   0,   0,   0,   0,   0,   0,   0,   0,\n",
       "             0,   0,   0,   0,   0,   0,   0,   0,   0,   0,   0,   0,   0,   0,\n",
       "             0,   0,   0,   0,   0,   0,   0,   0,   0,   0,   0,   0,   0,   0,\n",
       "             0,   0,   0,   0,   0,   0,   0,   0,   0,   0,   0,   0,   0,   0,\n",
       "             0,   0,   0,   0,   0,   0,   0,   0,   0,   0,   0,   0,   0,   0,\n",
       "             0,   0,   0,   0,   0,   0,   0,   0,   0,   0,   0,   0,   0,   0,\n",
       "             0,   0,   0,   0,   0,   0,   0,   0,   0,   0,   0,   0,   0,   0,\n",
       "             0,   0,   0,   0,   0,   0,   0,   0,   0,   0,   0,   0,   0,   0,\n",
       "             0,   0,   0,   0,   0,   0,   0,   0,   0,   0,   0,   0,   0,   0,\n",
       "             0,   0,   0,   0,   0,   0,   0,   0,   0,   0,   0,   0,   0,   0,\n",
       "             0,   0,   0,   0,   0,   0,   0,   0,   0,   0,   0,   0,   0,   0,\n",
       "             0,   0,   0,   0,   0,   0,   0,   0,   0,   0,   0,   0,   0,   0,\n",
       "             0,   0,   0,   0,   0,   0,   0,   0,   0,   0,   0,   0,   0,   0,\n",
       "             0,   0,   0,   0,   0,   0,   0,   0,   0,   0,   0,   0,   0,   0,\n",
       "             0,   0,   0,   0,   0,   0,   0,   0,   0,   0,   0,   0,   0,   0,\n",
       "             0,   0,   0,   0,   0,   0,   0,   0,   0,   0,   0,   0,   0,   0,\n",
       "             0,   0,   0,   0,   0,   0,   0,   0,   0,   0,   0,   0,   0,   0,\n",
       "             0,   0,   0,   0,   0,   0,   0,   0,   0,   0,   0,   0,   0,   0,\n",
       "             0,   0,   0,   0,   0,   0,   0,   0,   0,   0,   0,   0,   0,   0,\n",
       "             0,   0,   0,   0,   0,   0,   0,   0,   0,   0,   0,   0,   0,   0,\n",
       "             0,   0,   0,   0,   0,   0,   0,   0,   0,   0,   0,   0,   0,   0,\n",
       "             0,   0,   0,   0,   0,   0,   0,   0,   0,   0,   0,   0,   0,   0,\n",
       "             0,   0,   0,   0,   0,   0,   0,   0,   0,   0,   0,   0,   0,   0,\n",
       "             0,   0,   0,   0,   0,   0,   0,   0,   0,   0,   0,   0,   0,   0,\n",
       "             0,   0,   0,   0,   0,   0,   0,   0,   0,   0,   0,   0,   0,   0,\n",
       "             0,   0,   0,   0,   0,   0,   0,   0,   0,   0,   0,   0,   0,   0,\n",
       "             0,   0,   0,   0,   0,   0,   0,   0,   0,   0,   0,   0,   0,   0,\n",
       "             0,   0,   0,   0,   0,   0,   0,   0,   0,   0,   0,   0,   0,   0,\n",
       "             0,   0,   0,   0,   0,   0,   0,   0,   0,   0,   0,   0,   0,   0,\n",
       "             0,   0,   0,   0,   0,   0,   0,   0,   0,   0,   0,   0,   0,   0,\n",
       "             0,   0,   0,   0,   0,   0,   0,   0,   0,   0,   0,   0,   0,   0,\n",
       "             0,   0,   0,   0,   0,   0,   0,   0,   0,   0,   0,   0,   0,   0,\n",
       "             0,   0,   0,   0,   0,   0,   0,   0,   0,   0,   0,   0,   0,   0,\n",
       "             0,   0,   0,   0,   0,   0,   0,   0,   0,   0]], dtype=torch.uint8),\n",
       "  tensor([[[0., 0., 0.,  ..., 0., 0., 0.],\n",
       "           [0., 0., 0.,  ..., 0., 0., 0.],\n",
       "           [1., 0., 0.,  ..., 0., 0., 0.],\n",
       "           ...,\n",
       "           [0., 0., 0.,  ..., 0., 0., 0.],\n",
       "           [0., 0., 0.,  ..., 0., 0., 0.],\n",
       "           [0., 0., 0.,  ..., 0., 0., 0.]],\n",
       "  \n",
       "          [[0., 0., 0.,  ..., 0., 0., 0.],\n",
       "           [0., 0., 0.,  ..., 0., 0., 0.],\n",
       "           [1., 0., 0.,  ..., 0., 0., 0.],\n",
       "           ...,\n",
       "           [0., 0., 0.,  ..., 0., 0., 0.],\n",
       "           [0., 0., 0.,  ..., 0., 0., 0.],\n",
       "           [0., 0., 0.,  ..., 0., 0., 0.]]]),\n",
       "  tensor([[[0., 0., 1.,  ..., 0., 0., 0.],\n",
       "           [0., 0., 1.,  ..., 0., 0., 0.],\n",
       "           [1., 1., 0.,  ..., 0., 0., 0.],\n",
       "           ...,\n",
       "           [0., 0., 0.,  ..., 0., 0., 0.],\n",
       "           [0., 0., 0.,  ..., 0., 0., 0.],\n",
       "           [0., 0., 0.,  ..., 0., 0., 0.]],\n",
       "  \n",
       "          [[0., 0., 1.,  ..., 0., 0., 0.],\n",
       "           [0., 0., 1.,  ..., 0., 0., 0.],\n",
       "           [1., 1., 0.,  ..., 0., 0., 0.],\n",
       "           ...,\n",
       "           [0., 0., 0.,  ..., 0., 0., 0.],\n",
       "           [0., 0., 0.,  ..., 0., 0., 0.],\n",
       "           [0., 0., 0.,  ..., 0., 0., 0.]]], dtype=torch.float64),\n",
       "  tensor([[30, 29, 28,  9,  8,  7, 23, 22, 19, 18, 27, 26, 25, 24, 21, 20, 17, 16,\n",
       "           15, 14, 13, 12, 11, 10,  6,  5,  4,  3,  2,  1,  0,  0,  0,  0,  0,  0,\n",
       "            0,  0,  0,  0,  0,  0,  0,  0,  0,  0,  0,  0,  0,  0,  0,  0,  0,  0,\n",
       "            0,  0,  0,  0,  0,  0,  0,  0,  0,  0,  0,  0,  0,  0,  0,  0,  0,  0,\n",
       "            0,  0,  0,  0,  0,  0,  0,  0,  0,  0,  0,  0,  0,  0,  0,  0,  0,  0,\n",
       "            0,  0,  0,  0,  0,  0,  0,  0,  0,  0,  0,  0,  0,  0,  0,  0,  0,  0,\n",
       "            0,  0,  0,  0,  0,  0,  0,  0,  0,  0,  0,  0,  0,  0,  0,  0,  0,  0,\n",
       "            0,  0,  0,  0,  0,  0,  0,  0,  0,  0,  0,  0,  0,  0,  0,  0,  0,  0,\n",
       "            0,  0,  0,  0,  0,  0,  0,  0,  0,  0,  0,  0,  0,  0,  0,  0,  0,  0,\n",
       "            0,  0,  0,  0,  0,  0,  0,  0,  0,  0,  0,  0,  0,  0,  0,  0,  0,  0,\n",
       "            0,  0,  0,  0,  0,  0,  0,  0,  0,  0,  0,  0,  0,  0,  0,  0,  0,  0,\n",
       "            0,  0,  0,  0,  0,  0,  0,  0,  0,  0,  0,  0,  0,  0,  0,  0,  0,  0,\n",
       "            0,  0,  0,  0,  0,  0,  0,  0,  0,  0,  0,  0,  0,  0,  0,  0,  0,  0,\n",
       "            0,  0,  0,  0,  0,  0,  0,  0,  0,  0,  0,  0,  0,  0,  0,  0,  0,  0,\n",
       "            0,  0,  0,  0,  0,  0,  0,  0,  0,  0,  0,  0,  0,  0,  0,  0,  0,  0,\n",
       "            0,  0,  0,  0,  0,  0,  0,  0,  0,  0,  0,  0,  0,  0,  0,  0,  0,  0,\n",
       "            0,  0,  0,  0,  0,  0,  0,  0,  0,  0,  0,  0,  0,  0,  0,  0,  0,  0,\n",
       "            0,  0,  0,  0,  0,  0,  0,  0,  0,  0,  0,  0,  0,  0,  0,  0,  0,  0,\n",
       "            0,  0,  0,  0,  0,  0,  0,  0,  0,  0,  0,  0,  0,  0,  0,  0,  0,  0,\n",
       "            0,  0,  0,  0,  0,  0,  0,  0,  0,  0,  0,  0,  0,  0,  0,  0,  0,  0,\n",
       "            0,  0,  0,  0,  0,  0,  0,  0,  0,  0,  0,  0,  0,  0,  0,  0,  0,  0,\n",
       "            0,  0,  0,  0,  0,  0,  0,  0,  0,  0,  0,  0,  0,  0,  0,  0,  0,  0,\n",
       "            0,  0,  0,  0,  0,  0,  0,  0,  0,  0,  0,  0,  0,  0,  0,  0,  0,  0,\n",
       "            0,  0,  0,  0,  0,  0,  0,  0,  0,  0,  0,  0,  0,  0,  0,  0,  0,  0,\n",
       "            0,  0,  0,  0,  0,  0,  0,  0,  0,  0,  0,  0,  0,  0,  0,  0,  0,  0,\n",
       "            0,  0,  0,  0,  0,  0,  0,  0,  0,  0,  0,  0,  0,  0,  0,  0,  0,  0,\n",
       "            0,  0,  0,  0,  0,  0,  0,  0,  0,  0,  0,  0,  0,  0,  0,  0,  0,  0,\n",
       "            0,  0,  0,  0,  0,  0,  0,  0,  0,  0,  0,  0,  0,  0],\n",
       "          [30, 29, 28,  9,  8,  7, 23, 22, 19, 18, 27, 26, 25, 24, 21, 20, 17, 16,\n",
       "           15, 14, 13, 12, 11, 10,  6,  5,  4,  3,  2,  1,  0,  0,  0,  0,  0,  0,\n",
       "            0,  0,  0,  0,  0,  0,  0,  0,  0,  0,  0,  0,  0,  0,  0,  0,  0,  0,\n",
       "            0,  0,  0,  0,  0,  0,  0,  0,  0,  0,  0,  0,  0,  0,  0,  0,  0,  0,\n",
       "            0,  0,  0,  0,  0,  0,  0,  0,  0,  0,  0,  0,  0,  0,  0,  0,  0,  0,\n",
       "            0,  0,  0,  0,  0,  0,  0,  0,  0,  0,  0,  0,  0,  0,  0,  0,  0,  0,\n",
       "            0,  0,  0,  0,  0,  0,  0,  0,  0,  0,  0,  0,  0,  0,  0,  0,  0,  0,\n",
       "            0,  0,  0,  0,  0,  0,  0,  0,  0,  0,  0,  0,  0,  0,  0,  0,  0,  0,\n",
       "            0,  0,  0,  0,  0,  0,  0,  0,  0,  0,  0,  0,  0,  0,  0,  0,  0,  0,\n",
       "            0,  0,  0,  0,  0,  0,  0,  0,  0,  0,  0,  0,  0,  0,  0,  0,  0,  0,\n",
       "            0,  0,  0,  0,  0,  0,  0,  0,  0,  0,  0,  0,  0,  0,  0,  0,  0,  0,\n",
       "            0,  0,  0,  0,  0,  0,  0,  0,  0,  0,  0,  0,  0,  0,  0,  0,  0,  0,\n",
       "            0,  0,  0,  0,  0,  0,  0,  0,  0,  0,  0,  0,  0,  0,  0,  0,  0,  0,\n",
       "            0,  0,  0,  0,  0,  0,  0,  0,  0,  0,  0,  0,  0,  0,  0,  0,  0,  0,\n",
       "            0,  0,  0,  0,  0,  0,  0,  0,  0,  0,  0,  0,  0,  0,  0,  0,  0,  0,\n",
       "            0,  0,  0,  0,  0,  0,  0,  0,  0,  0,  0,  0,  0,  0,  0,  0,  0,  0,\n",
       "            0,  0,  0,  0,  0,  0,  0,  0,  0,  0,  0,  0,  0,  0,  0,  0,  0,  0,\n",
       "            0,  0,  0,  0,  0,  0,  0,  0,  0,  0,  0,  0,  0,  0,  0,  0,  0,  0,\n",
       "            0,  0,  0,  0,  0,  0,  0,  0,  0,  0,  0,  0,  0,  0,  0,  0,  0,  0,\n",
       "            0,  0,  0,  0,  0,  0,  0,  0,  0,  0,  0,  0,  0,  0,  0,  0,  0,  0,\n",
       "            0,  0,  0,  0,  0,  0,  0,  0,  0,  0,  0,  0,  0,  0,  0,  0,  0,  0,\n",
       "            0,  0,  0,  0,  0,  0,  0,  0,  0,  0,  0,  0,  0,  0,  0,  0,  0,  0,\n",
       "            0,  0,  0,  0,  0,  0,  0,  0,  0,  0,  0,  0,  0,  0,  0,  0,  0,  0,\n",
       "            0,  0,  0,  0,  0,  0,  0,  0,  0,  0,  0,  0,  0,  0,  0,  0,  0,  0,\n",
       "            0,  0,  0,  0,  0,  0,  0,  0,  0,  0,  0,  0,  0,  0,  0,  0,  0,  0,\n",
       "            0,  0,  0,  0,  0,  0,  0,  0,  0,  0,  0,  0,  0,  0,  0,  0,  0,  0,\n",
       "            0,  0,  0,  0,  0,  0,  0,  0,  0,  0,  0,  0,  0,  0,  0,  0,  0,  0,\n",
       "            0,  0,  0,  0,  0,  0,  0,  0,  0,  0,  0,  0,  0,  0]])],\n",
       " tensor([1.7858, 8.6888])]"
      ]
     },
     "execution_count": 27,
     "metadata": {},
     "output_type": "execute_result"
    }
   ],
   "source": [
    "# make data into batchs and test it on gConv and GNN\n",
    "custom_dataset = dataset(made_toy)\n",
    "loader = DataLoader(custom_dataset, batch_size=2, shuffle=True)\n",
    "for batch in loader:\n",
    "    break\n",
    "batch"
   ]
  },
  {
   "cell_type": "code",
   "execution_count": 28,
   "id": "41508b59",
   "metadata": {
    "execution": {
     "iopub.execute_input": "2023-11-07T02:07:44.275894Z",
     "iopub.status.busy": "2023-11-07T02:07:44.275024Z",
     "iopub.status.idle": "2023-11-07T02:07:44.280754Z",
     "shell.execute_reply": "2023-11-07T02:07:44.279815Z"
    },
    "papermill": {
     "duration": 0.029146,
     "end_time": "2023-11-07T02:07:44.283255",
     "exception": false,
     "start_time": "2023-11-07T02:07:44.254109",
     "status": "completed"
    },
    "tags": []
   },
   "outputs": [],
   "source": [
    "# use batch to test the model\n",
    "test = False\n",
    "if test:\n",
    "    batch_feat, batch_labels = batch\n",
    "    model = GNN(174, 2)\n",
    "    model = model.to(device)\n",
    "    batch_preds = model(batch_feat)\n",
    "    batch_preds"
   ]
  },
  {
   "cell_type": "code",
   "execution_count": 29,
   "id": "01f65399",
   "metadata": {
    "execution": {
     "iopub.execute_input": "2023-11-07T02:07:44.326221Z",
     "iopub.status.busy": "2023-11-07T02:07:44.325513Z",
     "iopub.status.idle": "2023-11-07T02:07:44.377924Z",
     "shell.execute_reply": "2023-11-07T02:07:44.376618Z"
    },
    "papermill": {
     "duration": 0.078214,
     "end_time": "2023-11-07T02:07:44.381060",
     "exception": false,
     "start_time": "2023-11-07T02:07:44.302846",
     "status": "completed"
    },
    "tags": []
   },
   "outputs": [],
   "source": [
    "avg = np.array([os.path.getsize(os.path.join(dirname, filename)) for filename in filenames]).mean()\n",
    "# what does this mean, something related to the size of the data?"
   ]
  },
  {
   "cell_type": "code",
   "execution_count": 30,
   "id": "58531c40",
   "metadata": {
    "execution": {
     "iopub.execute_input": "2023-11-07T02:07:44.423111Z",
     "iopub.status.busy": "2023-11-07T02:07:44.422663Z",
     "iopub.status.idle": "2023-11-07T02:07:44.433170Z",
     "shell.execute_reply": "2023-11-07T02:07:44.431806Z"
    },
    "papermill": {
     "duration": 0.034162,
     "end_time": "2023-11-07T02:07:44.435669",
     "exception": false,
     "start_time": "2023-11-07T02:07:44.401507",
     "status": "completed"
    },
    "tags": []
   },
   "outputs": [
    {
     "name": "stdout",
     "output_type": "stream",
     "text": [
      "no of nodes: (#nodes) in computation graph  31\n",
      "node_feat: (#features_of_a_node)  140\n",
      "node_opcode: (#operation_codes)  31\n",
      "edge_index: (#edges)  33\n",
      "configs: (#configurations)  1537\n",
      "config_feat: (#config_features)  24\n",
      "config_runtime: (#runtimes == # configs)  1537\n",
      "config_runtime_normalizers: (#runtimes_normalized == #configs)  1537\n"
     ]
    }
   ],
   "source": [
    "sample = tilex_train.head(1)\n",
    "print('no of nodes: (#nodes) in computation graph ', len(sample.node_feat[0]))\n",
    "print('node_feat: (#features_of_a_node) ', len(sample.node_feat[0][0]))\n",
    "print('node_opcode: (#operation_codes) ', len(sample.node_opcode[0]))\n",
    "print('edge_index: (#edges) ', len(sample.edge_index[0]))\n",
    "print('configs: (#configurations) ', len(sample.config_feat[0]))\n",
    "print('config_feat: (#config_features) ', len(sample.config_feat[0][0]))\n",
    "print('config_runtime: (#runtimes == # configs) ', len(sample.config_runtime[0]))\n",
    "print('config_runtime_normalizers: (#runtimes_normalized == #configs) ', len(sample.config_runtime_normalizers[0]))"
   ]
  },
  {
   "cell_type": "code",
   "execution_count": 31,
   "id": "a7be0dff",
   "metadata": {
    "execution": {
     "iopub.execute_input": "2023-11-07T02:07:44.477113Z",
     "iopub.status.busy": "2023-11-07T02:07:44.476691Z",
     "iopub.status.idle": "2023-11-07T02:07:44.486645Z",
     "shell.execute_reply": "2023-11-07T02:07:44.485424Z"
    },
    "papermill": {
     "duration": 0.033845,
     "end_time": "2023-11-07T02:07:44.489205",
     "exception": false,
     "start_time": "2023-11-07T02:07:44.455360",
     "status": "completed"
    },
    "tags": []
   },
   "outputs": [
    {
     "name": "stdout",
     "output_type": "stream",
     "text": [
      "no of nodes: (#nodes) in computation graph  25\n",
      "node_feat: (#features_of_a_node)  140\n",
      "node_opcode: (#operation_codes)  25\n",
      "edge_index: (#edges)  28\n",
      "configs: (#configurations)  8407\n",
      "config_feat: (#config_features)  24\n",
      "config_runtime: (#runtimes == # configs)  8407\n",
      "config_runtime_normalizers: (#runtimes_normalized == #configs)  8407\n"
     ]
    }
   ],
   "source": [
    "sample = tilex_train.head(2)\n",
    "print('no of nodes: (#nodes) in computation graph ', len(sample.node_feat[1]))\n",
    "print('node_feat: (#features_of_a_node) ', len(sample.node_feat[1][0]))\n",
    "print('node_opcode: (#operation_codes) ', len(sample.node_opcode[1]))\n",
    "print('edge_index: (#edges) ', len(sample.edge_index[1]))\n",
    "print('configs: (#configurations) ', len(sample.config_feat[1]))\n",
    "print('config_feat: (#config_features) ', len(sample.config_feat[1][0]))\n",
    "print('config_runtime: (#runtimes == # configs) ', len(sample.config_runtime[1]))\n",
    "print('config_runtime_normalizers: (#runtimes_normalized == #configs) ', len(sample.config_runtime_normalizers[1]))"
   ]
  },
  {
   "cell_type": "code",
   "execution_count": 32,
   "id": "49bbee3d",
   "metadata": {
    "execution": {
     "iopub.execute_input": "2023-11-07T02:07:44.532772Z",
     "iopub.status.busy": "2023-11-07T02:07:44.532322Z",
     "iopub.status.idle": "2023-11-07T02:07:44.542286Z",
     "shell.execute_reply": "2023-11-07T02:07:44.540919Z"
    },
    "papermill": {
     "duration": 0.035091,
     "end_time": "2023-11-07T02:07:44.545051",
     "exception": false,
     "start_time": "2023-11-07T02:07:44.509960",
     "status": "completed"
    },
    "tags": []
   },
   "outputs": [],
   "source": [
    "class gConv(nn.Module):\n",
    "    def __init__(self, in_feat, out_feat, batch_size):\n",
    "        super(gConv, self).__init__()\n",
    "        self.in_feat = in_feat\n",
    "        self.out_feat = out_feat\n",
    "        # try nn.init xavier_normal_ or xavier_uniform_ if convergence is slow\n",
    "        self.w = nn.Parameter(torch.stack([torch.randn(self.in_feat, self.out_feat, device=device)]*batch_size, axis=0), requires_grad=True)\n",
    "        \n",
    "    def forward(self, adj_matrix, feats):\n",
    "        adj_matrix = adj_matrix.to(device)\n",
    "        feats = feats.to(device)\n",
    "        id_matrix = torch.eye(feats.shape[1], device=device)\n",
    "        id_matrix = torch.stack([id_matrix]*feats.shape[0], axis=0)\n",
    "        adj_matrix = adj_matrix + id_matrix\n",
    "        adj_matrix = kipf_norm(adj_matrix)\n",
    "        agg_feat = torch.matmul(torch.matmul(adj_matrix, feats), self.w)\n",
    "        return torch.relu(agg_feat)"
   ]
  },
  {
   "cell_type": "code",
   "execution_count": 33,
   "id": "cddedb4b",
   "metadata": {
    "execution": {
     "iopub.execute_input": "2023-11-07T02:07:44.587748Z",
     "iopub.status.busy": "2023-11-07T02:07:44.587319Z",
     "iopub.status.idle": "2023-11-07T02:07:44.618205Z",
     "shell.execute_reply": "2023-11-07T02:07:44.616918Z"
    },
    "papermill": {
     "duration": 0.055241,
     "end_time": "2023-11-07T02:07:44.620801",
     "exception": false,
     "start_time": "2023-11-07T02:07:44.565560",
     "status": "completed"
    },
    "tags": []
   },
   "outputs": [
    {
     "data": {
      "text/plain": [
       "tensor([[[1.0466, 2.0644],\n",
       "         [0.9927, 1.4407],\n",
       "         [0.7985, 1.6518]],\n",
       "\n",
       "        [[1.0466, 2.0644],\n",
       "         [0.9927, 1.4407],\n",
       "         [0.7985, 1.6518]]], grad_fn=<ReluBackward0>)"
      ]
     },
     "execution_count": 33,
     "metadata": {},
     "output_type": "execute_result"
    }
   ],
   "source": [
    "gconv = gConv(in_feat=3, out_feat=2, batch_size=2) # feats in, feats out\n",
    "gconv = gconv.to(device) # need re-assign\n",
    "adj_matrix = torch.FloatTensor([[0, 1, 1], \n",
    "              [1, 0, 0], \n",
    "              [1, 0, 0]])\n",
    "feats = torch.FloatTensor([[1, 2, 3], \n",
    "                           [2, 1, 2], \n",
    "                           [3, 1, 5]])\n",
    "x = gconv(torch.unsqueeze(adj_matrix, 0), torch.unsqueeze(feats, 0))\n",
    "x"
   ]
  },
  {
   "cell_type": "code",
   "execution_count": 34,
   "id": "573e1d73",
   "metadata": {
    "execution": {
     "iopub.execute_input": "2023-11-07T02:07:44.664197Z",
     "iopub.status.busy": "2023-11-07T02:07:44.663763Z",
     "iopub.status.idle": "2023-11-07T02:07:44.686750Z",
     "shell.execute_reply": "2023-11-07T02:07:44.685546Z"
    },
    "papermill": {
     "duration": 0.047197,
     "end_time": "2023-11-07T02:07:44.689418",
     "exception": false,
     "start_time": "2023-11-07T02:07:44.642221",
     "status": "completed"
    },
    "tags": []
   },
   "outputs": [],
   "source": [
    "class GNN(nn.Module):\n",
    "    def __init__(self, input_feat, batch_size):\n",
    "        super(GNN, self).__init__()\n",
    "        self.input_feat = input_feat\n",
    "        self.gConv1 = gConv(input_feat, 256, batch_size)\n",
    "        self.gConv1.to(device)\n",
    "        self.gConv2 = gConv(256, 512, batch_size)\n",
    "        self.gConv2.to(device)\n",
    "        self.gConv3 = gConv(512, 128, batch_size)\n",
    "        self.gConv3.to(device)\n",
    "        self.gConv4 = gConv(128, 64, batch_size)\n",
    "        self.gConv4.to(device)\n",
    "        self.gConv5 = gConv(64, 32, batch_size)\n",
    "        self.gConv5.to(device)\n",
    "    \n",
    "    def forward(self, inputs):\n",
    "        op_code, node_config_feat, adj_matrix, topo_order = inputs\n",
    "        op_code, node_config_feat, adj_matrix, topo_order = op_code, node_config_feat, adj_matrix, topo_order\n",
    "        embd_layer = nn.Embedding(120, 10)\n",
    "        # type casting\n",
    "        op_code = op_code.clone().detach().to(torch.int64)\n",
    "        adj_matrix = adj_matrix.clone().detach().to(torch.float)\n",
    "        topo_order = topo_order.clone().detach().to(torch.int64)\n",
    "        # type casting\n",
    "        op_embd = embd_layer(op_code)\n",
    "        feats = torch.cat((op_embd, node_config_feat), dim=-1)\n",
    "        # type casting\n",
    "        feats = feats.clone().detach().to(torch.float)\n",
    "        # type casting\n",
    "        assert (feats.shape[-1] == (10+140+24))\n",
    "        # graph convolutions\n",
    "        x = self.gConv1(adj_matrix, feats)\n",
    "        x = self.gConv2(adj_matrix, x)\n",
    "        x = self.gConv3(adj_matrix, x)\n",
    "        x = self.gConv4(adj_matrix, x)\n",
    "        x = self.gConv5(adj_matrix, x)\n",
    "        assert(x.shape[1] == feats.shape[1])\n",
    "        assert(x.shape[2] == 32)\n",
    "        # topological order aware downsampling\n",
    "        topo_embd_layer = nn.Embedding(feats.shape[1], 10)\n",
    "        topo_embd = topo_embd_layer(topo_order)\n",
    "        topo_embd = torch.transpose(topo_embd, 1, 2)\n",
    "        assert(topo_embd.shape[1] == 10)\n",
    "        assert(topo_embd.shape[2] == feats.shape[1])\n",
    "        latent_feat = torch.matmul(topo_embd.to(device), x.to(device))\n",
    "        flat_feat = torch.flatten(latent_feat, start_dim=1)\n",
    "        flat_dim = flat_feat.shape[1]\n",
    "        \n",
    "        # linear layers init\n",
    "        self.dense1 = nn.Linear(flat_dim, 256).to(device)\n",
    "        self.bn1 = nn.BatchNorm1d(256).to(device)\n",
    "        self.dense2 = nn.Linear(256, 128).to(device)\n",
    "        self.bn2 = nn.BatchNorm1d(128).to(device)\n",
    "        self.dense3 = nn.Linear(128, 32).to(device)\n",
    "        self.bn3 = nn.BatchNorm1d(32).to(device)\n",
    "        self.dense4 = nn.Linear(32, 8).to(device)\n",
    "        self.bn4 = nn.BatchNorm1d(8).to(device)\n",
    "        self.dense5 = nn.Linear(8, 1).to(device)\n",
    "        self.act = nn.ReLU().to(device)\n",
    "        # linear layers build\n",
    "        x = self.act(self.dense1(flat_feat))\n",
    "        x = self.bn1(x)\n",
    "        x = self.act(self.dense2(x))\n",
    "        x = self.bn2(x)\n",
    "        x = self.act(self.dense3(x))\n",
    "        x = self.bn3(x)\n",
    "        x = self.act(self.dense4(x))\n",
    "        x = self.bn4(x)\n",
    "        x = self.act(self.dense5(x))\n",
    "        return x"
   ]
  },
  {
   "cell_type": "markdown",
   "id": "5a348093",
   "metadata": {
    "papermill": {
     "duration": 0.019318,
     "end_time": "2023-11-07T02:07:44.728994",
     "exception": false,
     "start_time": "2023-11-07T02:07:44.709676",
     "status": "completed"
    },
    "tags": []
   },
   "source": [
    "**TRAINING TILE**"
   ]
  },
  {
   "cell_type": "code",
   "execution_count": 35,
   "id": "214f4a57",
   "metadata": {
    "execution": {
     "iopub.execute_input": "2023-11-07T02:07:44.771957Z",
     "iopub.status.busy": "2023-11-07T02:07:44.771512Z",
     "iopub.status.idle": "2023-11-07T02:07:44.817792Z",
     "shell.execute_reply": "2023-11-07T02:07:44.816875Z"
    },
    "papermill": {
     "duration": 0.07067,
     "end_time": "2023-11-07T02:07:44.820498",
     "exception": false,
     "start_time": "2023-11-07T02:07:44.749828",
     "status": "completed"
    },
    "tags": []
   },
   "outputs": [],
   "source": [
    "batch_size = 64 # determine the batch_size closely (also frame a algorithmic question related to this and post in on LeetCode)\n",
    "model = GNN(174, batch_size)\n",
    "model = model.to(device)"
   ]
  },
  {
   "cell_type": "code",
   "execution_count": 36,
   "id": "6e228c15",
   "metadata": {
    "execution": {
     "iopub.execute_input": "2023-11-07T02:07:44.863247Z",
     "iopub.status.busy": "2023-11-07T02:07:44.862463Z",
     "iopub.status.idle": "2023-11-07T02:07:45.765115Z",
     "shell.execute_reply": "2023-11-07T02:07:45.763448Z"
    },
    "papermill": {
     "duration": 0.926211,
     "end_time": "2023-11-07T02:07:45.767438",
     "exception": true,
     "start_time": "2023-11-07T02:07:44.841227",
     "status": "failed"
    },
    "tags": []
   },
   "outputs": [
    {
     "ename": "FileNotFoundError",
     "evalue": "[Errno 2] No such file or directory: '/kaggle/input/processed-tile-data-1/tiler_train1.pkl'",
     "output_type": "error",
     "traceback": [
      "\u001b[0;31m---------------------------------------------------------------------------\u001b[0m",
      "\u001b[0;31mFileNotFoundError\u001b[0m                         Traceback (most recent call last)",
      "Cell \u001b[0;32mIn[36], line 6\u001b[0m\n\u001b[1;32m      4\u001b[0m train1 \u001b[38;5;241m=\u001b[39m \u001b[38;5;28;01mTrue\u001b[39;00m\n\u001b[1;32m      5\u001b[0m \u001b[38;5;28;01mif\u001b[39;00m train1:\n\u001b[0;32m----> 6\u001b[0m     tile_train \u001b[38;5;241m=\u001b[39m \u001b[43mpd\u001b[49m\u001b[38;5;241;43m.\u001b[39;49m\u001b[43mread_pickle\u001b[49m\u001b[43m(\u001b[49m\u001b[43mtrain1_pkl\u001b[49m\u001b[43m)\u001b[49m\n\u001b[1;32m      7\u001b[0m \u001b[38;5;28;01melse\u001b[39;00m:\n\u001b[1;32m      8\u001b[0m     tile_train \u001b[38;5;241m=\u001b[39m pd\u001b[38;5;241m.\u001b[39mread_pickle(train2_pkl)\n",
      "File \u001b[0;32m/opt/conda/lib/python3.10/site-packages/pandas/io/pickle.py:179\u001b[0m, in \u001b[0;36mread_pickle\u001b[0;34m(filepath_or_buffer, compression, storage_options)\u001b[0m\n\u001b[1;32m    115\u001b[0m \u001b[38;5;250m\u001b[39m\u001b[38;5;124;03m\"\"\"\u001b[39;00m\n\u001b[1;32m    116\u001b[0m \u001b[38;5;124;03mLoad pickled pandas object (or any object) from file.\u001b[39;00m\n\u001b[1;32m    117\u001b[0m \n\u001b[0;32m   (...)\u001b[0m\n\u001b[1;32m    176\u001b[0m \u001b[38;5;124;03m4    4    9\u001b[39;00m\n\u001b[1;32m    177\u001b[0m \u001b[38;5;124;03m\"\"\"\u001b[39;00m\n\u001b[1;32m    178\u001b[0m excs_to_catch \u001b[38;5;241m=\u001b[39m (\u001b[38;5;167;01mAttributeError\u001b[39;00m, \u001b[38;5;167;01mImportError\u001b[39;00m, \u001b[38;5;167;01mModuleNotFoundError\u001b[39;00m, \u001b[38;5;167;01mTypeError\u001b[39;00m)\n\u001b[0;32m--> 179\u001b[0m \u001b[38;5;28;01mwith\u001b[39;00m \u001b[43mget_handle\u001b[49m\u001b[43m(\u001b[49m\n\u001b[1;32m    180\u001b[0m \u001b[43m    \u001b[49m\u001b[43mfilepath_or_buffer\u001b[49m\u001b[43m,\u001b[49m\n\u001b[1;32m    181\u001b[0m \u001b[43m    \u001b[49m\u001b[38;5;124;43m\"\u001b[39;49m\u001b[38;5;124;43mrb\u001b[39;49m\u001b[38;5;124;43m\"\u001b[39;49m\u001b[43m,\u001b[49m\n\u001b[1;32m    182\u001b[0m \u001b[43m    \u001b[49m\u001b[43mcompression\u001b[49m\u001b[38;5;241;43m=\u001b[39;49m\u001b[43mcompression\u001b[49m\u001b[43m,\u001b[49m\n\u001b[1;32m    183\u001b[0m \u001b[43m    \u001b[49m\u001b[43mis_text\u001b[49m\u001b[38;5;241;43m=\u001b[39;49m\u001b[38;5;28;43;01mFalse\u001b[39;49;00m\u001b[43m,\u001b[49m\n\u001b[1;32m    184\u001b[0m \u001b[43m    \u001b[49m\u001b[43mstorage_options\u001b[49m\u001b[38;5;241;43m=\u001b[39;49m\u001b[43mstorage_options\u001b[49m\u001b[43m,\u001b[49m\n\u001b[1;32m    185\u001b[0m \u001b[43m\u001b[49m\u001b[43m)\u001b[49m \u001b[38;5;28;01mas\u001b[39;00m handles:\n\u001b[1;32m    186\u001b[0m     \u001b[38;5;66;03m# 1) try standard library Pickle\u001b[39;00m\n\u001b[1;32m    187\u001b[0m     \u001b[38;5;66;03m# 2) try pickle_compat (older pandas version) to handle subclass changes\u001b[39;00m\n\u001b[1;32m    188\u001b[0m     \u001b[38;5;66;03m# 3) try pickle_compat with latin-1 encoding upon a UnicodeDecodeError\u001b[39;00m\n\u001b[1;32m    190\u001b[0m     \u001b[38;5;28;01mtry\u001b[39;00m:\n\u001b[1;32m    191\u001b[0m         \u001b[38;5;66;03m# TypeError for Cython complaints about object.__new__ vs Tick.__new__\u001b[39;00m\n\u001b[1;32m    192\u001b[0m         \u001b[38;5;28;01mtry\u001b[39;00m:\n",
      "File \u001b[0;32m/opt/conda/lib/python3.10/site-packages/pandas/io/common.py:868\u001b[0m, in \u001b[0;36mget_handle\u001b[0;34m(path_or_buf, mode, encoding, compression, memory_map, is_text, errors, storage_options)\u001b[0m\n\u001b[1;32m    859\u001b[0m         handle \u001b[38;5;241m=\u001b[39m \u001b[38;5;28mopen\u001b[39m(\n\u001b[1;32m    860\u001b[0m             handle,\n\u001b[1;32m    861\u001b[0m             ioargs\u001b[38;5;241m.\u001b[39mmode,\n\u001b[0;32m   (...)\u001b[0m\n\u001b[1;32m    864\u001b[0m             newline\u001b[38;5;241m=\u001b[39m\u001b[38;5;124m\"\u001b[39m\u001b[38;5;124m\"\u001b[39m,\n\u001b[1;32m    865\u001b[0m         )\n\u001b[1;32m    866\u001b[0m     \u001b[38;5;28;01melse\u001b[39;00m:\n\u001b[1;32m    867\u001b[0m         \u001b[38;5;66;03m# Binary mode\u001b[39;00m\n\u001b[0;32m--> 868\u001b[0m         handle \u001b[38;5;241m=\u001b[39m \u001b[38;5;28;43mopen\u001b[39;49m\u001b[43m(\u001b[49m\u001b[43mhandle\u001b[49m\u001b[43m,\u001b[49m\u001b[43m \u001b[49m\u001b[43mioargs\u001b[49m\u001b[38;5;241;43m.\u001b[39;49m\u001b[43mmode\u001b[49m\u001b[43m)\u001b[49m\n\u001b[1;32m    869\u001b[0m     handles\u001b[38;5;241m.\u001b[39mappend(handle)\n\u001b[1;32m    871\u001b[0m \u001b[38;5;66;03m# Convert BytesIO or file objects passed with an encoding\u001b[39;00m\n",
      "\u001b[0;31mFileNotFoundError\u001b[0m: [Errno 2] No such file or directory: '/kaggle/input/processed-tile-data-1/tiler_train1.pkl'"
     ]
    }
   ],
   "source": [
    "train1_pkl = \"/kaggle/input/processed-tile-data-1/tiler_train1.pkl\"\n",
    "train2_pkl = \"/kaggle/input/processed-tile-data-2/tiler_train2.pkl\"\n",
    "val_pkl = \"/kaggle/input/valid-fast-slow/tiler_val.pkl\"\n",
    "train1 = True\n",
    "if train1:\n",
    "    tile_train = pd.read_pickle(train1_pkl)\n",
    "else:\n",
    "    tile_train = pd.read_pickle(train2_pkl)\n",
    "tile_val = pd.read_pickle(val_pkl)"
   ]
  },
  {
   "cell_type": "code",
   "execution_count": null,
   "id": "8fd93673",
   "metadata": {
    "execution": {
     "iopub.status.busy": "2023-11-02T03:05:14.064060Z",
     "iopub.status.idle": "2023-11-02T03:05:14.064593Z",
     "shell.execute_reply": "2023-11-02T03:05:14.064413Z",
     "shell.execute_reply.started": "2023-11-02T03:05:14.064392Z"
    },
    "papermill": {
     "duration": null,
     "end_time": null,
     "exception": null,
     "start_time": null,
     "status": "pending"
    },
    "tags": []
   },
   "outputs": [],
   "source": [
    "print(\"train data rows: \", len(tile_train))\n",
    "# slice the data to make it compatible with the batch_size\n",
    "train_just = tile_train.iloc[0:5546240].copy(deep=True)\n",
    "train_just.head()"
   ]
  },
  {
   "cell_type": "code",
   "execution_count": null,
   "id": "efbd8a23",
   "metadata": {
    "execution": {
     "iopub.status.busy": "2023-11-02T03:05:14.065956Z",
     "iopub.status.idle": "2023-11-02T03:05:14.066814Z",
     "shell.execute_reply": "2023-11-02T03:05:14.066608Z",
     "shell.execute_reply.started": "2023-11-02T03:05:14.066586Z"
    },
    "papermill": {
     "duration": null,
     "end_time": null,
     "exception": null,
     "start_time": null,
     "status": "pending"
    },
    "tags": []
   },
   "outputs": [],
   "source": [
    "print(\"valid data rows: \", len(tile_val))\n",
    "# slice the data to make it compatible with the batch_size\n",
    "val_just = tile_val.iloc[0:1042048].copy(deep=True)\n",
    "val_just.head()"
   ]
  },
  {
   "cell_type": "markdown",
   "id": "a159a0a6",
   "metadata": {
    "papermill": {
     "duration": null,
     "end_time": null,
     "exception": null,
     "start_time": null,
     "status": "pending"
    },
    "tags": []
   },
   "source": [
    "**TRAINING MODEL**"
   ]
  },
  {
   "cell_type": "code",
   "execution_count": null,
   "id": "45e81b5c",
   "metadata": {
    "execution": {
     "iopub.status.busy": "2023-11-02T03:05:14.068477Z",
     "iopub.status.idle": "2023-11-02T03:05:14.068858Z",
     "shell.execute_reply": "2023-11-02T03:05:14.068695Z",
     "shell.execute_reply.started": "2023-11-02T03:05:14.068677Z"
    },
    "papermill": {
     "duration": null,
     "end_time": null,
     "exception": null,
     "start_time": null,
     "status": "pending"
    },
    "tags": []
   },
   "outputs": [],
   "source": [
    "test = True\n",
    "if test:\n",
    "    criterion = nn.MSELoss()\n",
    "    optimizer = optim.Adam(model.parameters(), lr=0.01)\n",
    "    num_epochs = 0 # change the no of epochs to train it\n",
    "    train_batchs = dataset(train_just)\n",
    "    val_batchs = dataset(val_just)\n",
    "    train_batchs = DataLoader(train_batchs, batch_size=batch_size, shuffle=True)\n",
    "    val_batchs = DataLoader(val_batchs, batch_size=batch_size, shuffle=True) \n",
    "    for epoch in range(num_epochs):\n",
    "        tot_loss = 20\n",
    "        for batch in train_batchs:\n",
    "            batch_feats, batch_true = batch\n",
    "            optimizer.zero_grad()\n",
    "            batch_preds = model(batch_feats)\n",
    "            batch_preds = batch_preds.view(batch_size,)\n",
    "            loss = criterion(batch_preds.to(device), batch_true.to(device))\n",
    "            tot_loss += loss.item()\n",
    "            # add high weightage to top 5 fastest runtime config (ranking loss)\n",
    "            loss.backward()\n",
    "            optimizer.step()\n",
    "        print('train tot_loss: ', tot_loss, end='  ')\n",
    "        tot_loss = 0\n",
    "        with torch.no_grad():\n",
    "            for batch in val_batchs:\n",
    "                batch_feats, batch_true = batch\n",
    "                batch_preds = model(batch_feats)\n",
    "                batch_preds = batch_preds.view(batch_size,)\n",
    "                tot_loss += criterion(batch_preds.to(device), batch_true.to(device)).item()\n",
    "        print('valid tot_loss: ', tot_loss)"
   ]
  },
  {
   "cell_type": "code",
   "execution_count": null,
   "id": "399d35dc",
   "metadata": {
    "execution": {
     "iopub.status.busy": "2023-11-02T03:05:14.070159Z",
     "iopub.status.idle": "2023-11-02T03:05:14.070905Z",
     "shell.execute_reply": "2023-11-02T03:05:14.070723Z",
     "shell.execute_reply.started": "2023-11-02T03:05:14.070701Z"
    },
    "papermill": {
     "duration": null,
     "end_time": null,
     "exception": null,
     "start_time": null,
     "status": "pending"
    },
    "tags": []
   },
   "outputs": [],
   "source": [
    "checkpoint = {\n",
    "    'model_state_dict': model.state_dict(),\n",
    "    'optimizer_state_dict': optimizer.state_dict(),\n",
    "}\n",
    "model_path = '/kaggle/working/trained_model.pth'\n",
    "torch.save(checkpoint, model_path)"
   ]
  },
  {
   "cell_type": "code",
   "execution_count": null,
   "id": "2081078d",
   "metadata": {
    "execution": {
     "iopub.status.busy": "2023-11-02T03:05:14.072265Z",
     "iopub.status.idle": "2023-11-02T03:05:14.073103Z",
     "shell.execute_reply": "2023-11-02T03:05:14.072919Z",
     "shell.execute_reply.started": "2023-11-02T03:05:14.072894Z"
    },
    "papermill": {
     "duration": null,
     "end_time": null,
     "exception": null,
     "start_time": null,
     "status": "pending"
    },
    "tags": []
   },
   "outputs": [],
   "source": [
    "load = False\n",
    "if load:\n",
    "    model = GNN()\n",
    "    checkpoint = torch.load(model_path)\n",
    "    model.load_state_dict(checkpoint[\"model_state_dict\"])\n",
    "    optimizer = optim.Adam(model.parameters(), lr=0.01)\n",
    "    optimizer.load_state_dict(checkpoint[\"optimizer_state_dict\"])"
   ]
  },
  {
   "cell_type": "code",
   "execution_count": null,
   "id": "00c91a6e",
   "metadata": {
    "execution": {
     "iopub.status.busy": "2023-11-02T03:05:14.075324Z",
     "iopub.status.idle": "2023-11-02T03:05:14.075731Z",
     "shell.execute_reply": "2023-11-02T03:05:14.075562Z",
     "shell.execute_reply.started": "2023-11-02T03:05:14.075543Z"
    },
    "papermill": {
     "duration": null,
     "end_time": null,
     "exception": null,
     "start_time": null,
     "status": "pending"
    },
    "tags": []
   },
   "outputs": [],
   "source": [
    "test_data = tile_xla[\"test\"]\n",
    "print(len(test_data))\n",
    "test_data.head()"
   ]
  },
  {
   "cell_type": "code",
   "execution_count": null,
   "id": "78945d21",
   "metadata": {
    "execution": {
     "iopub.status.busy": "2023-11-02T03:05:14.077306Z",
     "iopub.status.idle": "2023-11-02T03:05:14.077969Z",
     "shell.execute_reply": "2023-11-02T03:05:14.077783Z",
     "shell.execute_reply.started": "2023-11-02T03:05:14.077763Z"
    },
    "papermill": {
     "duration": null,
     "end_time": null,
     "exception": null,
     "start_time": null,
     "status": "pending"
    },
    "tags": []
   },
   "outputs": [],
   "source": [
    "if False: # Change it to True to run the cell\n",
    "    model.eval()\n",
    "    result = []\n",
    "    for i in range(2): # len(test_data)\n",
    "        row = test_data.iloc[i].to_frame().T\n",
    "        row = row.copy(deep=True)\n",
    "        row['topo_order'] = row['edge_index'].map(lambda e: topo_sort(e))\n",
    "        row['edge_index'] = row['edge_index'].map(lambda e: adj_mat(e, max([max(edge) for edge in e])+1))\n",
    "        made_row = make_data(row, i)\n",
    "        rank = []\n",
    "        for config in range(2): # len(made_row)\n",
    "            econ = made_row.iloc[config].to_frame().T\n",
    "            econ_batch = dataset(econ)\n",
    "            econ_data = DataLoader(econ_batch, batch_size=1, shuffle=False)\n",
    "            for batch in econ_data:\n",
    "                batch_feats, batch_labels = batch\n",
    "                pred = model(batch_feats)\n",
    "                pred_mean = torch.mean(pred).item()\n",
    "                print(pred_mean, batch_labels.item())\n",
    "            rank.append((config, pred_mean))\n",
    "        rank.sort(key=lambda x: x[1])\n",
    "        # take top 5 and append to sample_submissions.csv\n",
    "        result.append([x[0] for x in rank[:5]])"
   ]
  },
  {
   "cell_type": "code",
   "execution_count": null,
   "id": "27a3ebd6",
   "metadata": {
    "execution": {
     "iopub.status.busy": "2023-11-02T03:05:14.079360Z",
     "iopub.status.idle": "2023-11-02T03:05:14.080232Z",
     "shell.execute_reply": "2023-11-02T03:05:14.080011Z",
     "shell.execute_reply.started": "2023-11-02T03:05:14.079988Z"
    },
    "papermill": {
     "duration": null,
     "end_time": null,
     "exception": null,
     "start_time": null,
     "status": "pending"
    },
    "tags": []
   },
   "outputs": [],
   "source": [
    "\n",
    "if False: # Change it to True to get the inference\n",
    "    assert(len(result) == 844)\n",
    "    sub = pd.read_csv(\"/kaggle/input/predict-ai-model-runtime/sample_submission.csv\")\n",
    "    for i, res in enumerate(result):\n",
    "        s = \"\"\n",
    "        for config in res:\n",
    "            s += str(config)+';'\n",
    "        s = s[:-1]\n",
    "        sub.iloc[i].TopConfigs = s\n",
    "    sub.to_csv(\"/kaggle/working/sub.csv\", index=False)"
   ]
  }
 ],
 "metadata": {
  "kernelspec": {
   "display_name": "Python 3",
   "language": "python",
   "name": "python3"
  },
  "language_info": {
   "codemirror_mode": {
    "name": "ipython",
    "version": 3
   },
   "file_extension": ".py",
   "mimetype": "text/x-python",
   "name": "python",
   "nbconvert_exporter": "python",
   "pygments_lexer": "ipython3",
   "version": "3.10.12"
  },
  "papermill": {
   "default_parameters": {},
   "duration": 98.633328,
   "end_time": "2023-11-07T02:07:48.092007",
   "environment_variables": {},
   "exception": true,
   "input_path": "__notebook__.ipynb",
   "output_path": "__notebook__.ipynb",
   "parameters": {},
   "start_time": "2023-11-07T02:06:09.458679",
   "version": "2.4.0"
  }
 },
 "nbformat": 4,
 "nbformat_minor": 5
}
